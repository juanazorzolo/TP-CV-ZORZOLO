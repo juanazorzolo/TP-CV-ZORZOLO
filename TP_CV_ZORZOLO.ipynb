{
  "nbformat": 4,
  "nbformat_minor": 0,
  "metadata": {
    "colab": {
      "provenance": [],
      "gpuType": "T4",
      "authorship_tag": "ABX9TyOke1PhGOJrV00+5dztViuz",
      "include_colab_link": true
    },
    "kernelspec": {
      "name": "python3",
      "display_name": "Python 3"
    },
    "language_info": {
      "name": "python"
    },
    "accelerator": "GPU"
  },
  "cells": [
    {
      "cell_type": "markdown",
      "metadata": {
        "id": "view-in-github",
        "colab_type": "text"
      },
      "source": [
        "<a href=\"https://colab.research.google.com/github/juanazorzolo/TP-CV-ZORZOLO/blob/main/TP_CV_ZORZOLO.ipynb\" target=\"_parent\"><img src=\"https://colab.research.google.com/assets/colab-badge.svg\" alt=\"Open In Colab\"/></a>"
      ]
    },
    {
      "cell_type": "markdown",
      "source": [
        "# **TRABAJO PRÁCTICO FINAL CV 2025 - SISTEMA DE DETECCIÓN Y CLASIFICACIÓN DE RAZAS DE PERROS**\n",
        "\n",
        "**AUTOR: Juana Zorzolo Rubio (Z-1217/3)**"
      ],
      "metadata": {
        "id": "7_UEWJYbvB1J"
      }
    },
    {
      "cell_type": "markdown",
      "source": [
        "Objetivo General:\n",
        "\n",
        "Desarrollar un pipeline completo de visión por computadora para la identificación de razas de perros en imágenes. El proyecto abarca desde la creación de un sistema de búsqueda por similitud hasta la implementación de un sistema de detección y clasificación en imágenes complejas, incluyendo el entrenamiento y la optimización de modelos de Deep Learning.\n"
      ],
      "metadata": {
        "id": "4H9biV3wveBV"
      }
    },
    {
      "cell_type": "markdown",
      "source": [
        "# Etapa 1: Buscador de Imágenes por Similitud"
      ],
      "metadata": {
        "id": "4evSVIMmvoVe"
      }
    },
    {
      "cell_type": "markdown",
      "source": [
        "## Creación de la Base de Datos Vectorial"
      ],
      "metadata": {
        "id": "-kyvstpywLXr"
      }
    },
    {
      "cell_type": "code",
      "source": [
        "from google.colab import files\n",
        "files.upload()"
      ],
      "metadata": {
        "colab": {
          "base_uri": "https://localhost:8080/",
          "height": 90
        },
        "id": "EUyydzOh0miz",
        "outputId": "bdd39133-86fa-4655-e15e-9600e1ace927"
      },
      "execution_count": 1,
      "outputs": [
        {
          "output_type": "display_data",
          "data": {
            "text/plain": [
              "<IPython.core.display.HTML object>"
            ],
            "text/html": [
              "\n",
              "     <input type=\"file\" id=\"files-64e9e111-b1d2-4194-bb80-a3a62744e685\" name=\"files[]\" multiple disabled\n",
              "        style=\"border:none\" />\n",
              "     <output id=\"result-64e9e111-b1d2-4194-bb80-a3a62744e685\">\n",
              "      Upload widget is only available when the cell has been executed in the\n",
              "      current browser session. Please rerun this cell to enable.\n",
              "      </output>\n",
              "      <script>// Copyright 2017 Google LLC\n",
              "//\n",
              "// Licensed under the Apache License, Version 2.0 (the \"License\");\n",
              "// you may not use this file except in compliance with the License.\n",
              "// You may obtain a copy of the License at\n",
              "//\n",
              "//      http://www.apache.org/licenses/LICENSE-2.0\n",
              "//\n",
              "// Unless required by applicable law or agreed to in writing, software\n",
              "// distributed under the License is distributed on an \"AS IS\" BASIS,\n",
              "// WITHOUT WARRANTIES OR CONDITIONS OF ANY KIND, either express or implied.\n",
              "// See the License for the specific language governing permissions and\n",
              "// limitations under the License.\n",
              "\n",
              "/**\n",
              " * @fileoverview Helpers for google.colab Python module.\n",
              " */\n",
              "(function(scope) {\n",
              "function span(text, styleAttributes = {}) {\n",
              "  const element = document.createElement('span');\n",
              "  element.textContent = text;\n",
              "  for (const key of Object.keys(styleAttributes)) {\n",
              "    element.style[key] = styleAttributes[key];\n",
              "  }\n",
              "  return element;\n",
              "}\n",
              "\n",
              "// Max number of bytes which will be uploaded at a time.\n",
              "const MAX_PAYLOAD_SIZE = 100 * 1024;\n",
              "\n",
              "function _uploadFiles(inputId, outputId) {\n",
              "  const steps = uploadFilesStep(inputId, outputId);\n",
              "  const outputElement = document.getElementById(outputId);\n",
              "  // Cache steps on the outputElement to make it available for the next call\n",
              "  // to uploadFilesContinue from Python.\n",
              "  outputElement.steps = steps;\n",
              "\n",
              "  return _uploadFilesContinue(outputId);\n",
              "}\n",
              "\n",
              "// This is roughly an async generator (not supported in the browser yet),\n",
              "// where there are multiple asynchronous steps and the Python side is going\n",
              "// to poll for completion of each step.\n",
              "// This uses a Promise to block the python side on completion of each step,\n",
              "// then passes the result of the previous step as the input to the next step.\n",
              "function _uploadFilesContinue(outputId) {\n",
              "  const outputElement = document.getElementById(outputId);\n",
              "  const steps = outputElement.steps;\n",
              "\n",
              "  const next = steps.next(outputElement.lastPromiseValue);\n",
              "  return Promise.resolve(next.value.promise).then((value) => {\n",
              "    // Cache the last promise value to make it available to the next\n",
              "    // step of the generator.\n",
              "    outputElement.lastPromiseValue = value;\n",
              "    return next.value.response;\n",
              "  });\n",
              "}\n",
              "\n",
              "/**\n",
              " * Generator function which is called between each async step of the upload\n",
              " * process.\n",
              " * @param {string} inputId Element ID of the input file picker element.\n",
              " * @param {string} outputId Element ID of the output display.\n",
              " * @return {!Iterable<!Object>} Iterable of next steps.\n",
              " */\n",
              "function* uploadFilesStep(inputId, outputId) {\n",
              "  const inputElement = document.getElementById(inputId);\n",
              "  inputElement.disabled = false;\n",
              "\n",
              "  const outputElement = document.getElementById(outputId);\n",
              "  outputElement.innerHTML = '';\n",
              "\n",
              "  const pickedPromise = new Promise((resolve) => {\n",
              "    inputElement.addEventListener('change', (e) => {\n",
              "      resolve(e.target.files);\n",
              "    });\n",
              "  });\n",
              "\n",
              "  const cancel = document.createElement('button');\n",
              "  inputElement.parentElement.appendChild(cancel);\n",
              "  cancel.textContent = 'Cancel upload';\n",
              "  const cancelPromise = new Promise((resolve) => {\n",
              "    cancel.onclick = () => {\n",
              "      resolve(null);\n",
              "    };\n",
              "  });\n",
              "\n",
              "  // Wait for the user to pick the files.\n",
              "  const files = yield {\n",
              "    promise: Promise.race([pickedPromise, cancelPromise]),\n",
              "    response: {\n",
              "      action: 'starting',\n",
              "    }\n",
              "  };\n",
              "\n",
              "  cancel.remove();\n",
              "\n",
              "  // Disable the input element since further picks are not allowed.\n",
              "  inputElement.disabled = true;\n",
              "\n",
              "  if (!files) {\n",
              "    return {\n",
              "      response: {\n",
              "        action: 'complete',\n",
              "      }\n",
              "    };\n",
              "  }\n",
              "\n",
              "  for (const file of files) {\n",
              "    const li = document.createElement('li');\n",
              "    li.append(span(file.name, {fontWeight: 'bold'}));\n",
              "    li.append(span(\n",
              "        `(${file.type || 'n/a'}) - ${file.size} bytes, ` +\n",
              "        `last modified: ${\n",
              "            file.lastModifiedDate ? file.lastModifiedDate.toLocaleDateString() :\n",
              "                                    'n/a'} - `));\n",
              "    const percent = span('0% done');\n",
              "    li.appendChild(percent);\n",
              "\n",
              "    outputElement.appendChild(li);\n",
              "\n",
              "    const fileDataPromise = new Promise((resolve) => {\n",
              "      const reader = new FileReader();\n",
              "      reader.onload = (e) => {\n",
              "        resolve(e.target.result);\n",
              "      };\n",
              "      reader.readAsArrayBuffer(file);\n",
              "    });\n",
              "    // Wait for the data to be ready.\n",
              "    let fileData = yield {\n",
              "      promise: fileDataPromise,\n",
              "      response: {\n",
              "        action: 'continue',\n",
              "      }\n",
              "    };\n",
              "\n",
              "    // Use a chunked sending to avoid message size limits. See b/62115660.\n",
              "    let position = 0;\n",
              "    do {\n",
              "      const length = Math.min(fileData.byteLength - position, MAX_PAYLOAD_SIZE);\n",
              "      const chunk = new Uint8Array(fileData, position, length);\n",
              "      position += length;\n",
              "\n",
              "      const base64 = btoa(String.fromCharCode.apply(null, chunk));\n",
              "      yield {\n",
              "        response: {\n",
              "          action: 'append',\n",
              "          file: file.name,\n",
              "          data: base64,\n",
              "        },\n",
              "      };\n",
              "\n",
              "      let percentDone = fileData.byteLength === 0 ?\n",
              "          100 :\n",
              "          Math.round((position / fileData.byteLength) * 100);\n",
              "      percent.textContent = `${percentDone}% done`;\n",
              "\n",
              "    } while (position < fileData.byteLength);\n",
              "  }\n",
              "\n",
              "  // All done.\n",
              "  yield {\n",
              "    response: {\n",
              "      action: 'complete',\n",
              "    }\n",
              "  };\n",
              "}\n",
              "\n",
              "scope.google = scope.google || {};\n",
              "scope.google.colab = scope.google.colab || {};\n",
              "scope.google.colab._files = {\n",
              "  _uploadFiles,\n",
              "  _uploadFilesContinue,\n",
              "};\n",
              "})(self);\n",
              "</script> "
            ]
          },
          "metadata": {}
        },
        {
          "output_type": "stream",
          "name": "stdout",
          "text": [
            "Saving kaggle.json to kaggle.json\n"
          ]
        },
        {
          "output_type": "execute_result",
          "data": {
            "text/plain": [
              "{'kaggle.json': b'{\"username\":\"juanazorzolo\",\"key\":\"16e8ca4c7eebb08f98f32ced7754996d\"}'}"
            ]
          },
          "metadata": {},
          "execution_count": 1
        }
      ]
    },
    {
      "cell_type": "code",
      "source": [
        "!mkdir -p ~/.kaggle\n",
        "!cp kaggle.json ~/.kaggle/\n",
        "!chmod 600 ~/.kaggle/kaggle.json"
      ],
      "metadata": {
        "id": "4Q1XRNZ107Ab"
      },
      "execution_count": 2,
      "outputs": []
    },
    {
      "cell_type": "code",
      "source": [
        "!kaggle datasets download -d gpiosenka/70-dog-breedsimage-data-set\n",
        "!unzip -q 70-dog-breedsimage-data-set.zip -d /content/"
      ],
      "metadata": {
        "colab": {
          "base_uri": "https://localhost:8080/"
        },
        "id": "YD6zMUkr0-kZ",
        "outputId": "378f24bd-71f6-495c-eda8-4e7db29001cd"
      },
      "execution_count": 3,
      "outputs": [
        {
          "output_type": "stream",
          "name": "stdout",
          "text": [
            "Dataset URL: https://www.kaggle.com/datasets/gpiosenka/70-dog-breedsimage-data-set\n",
            "License(s): CC0-1.0\n",
            "Downloading 70-dog-breedsimage-data-set.zip to /content\n",
            " 57% 122M/215M [00:00<00:00, 1.27GB/s]\n",
            "100% 215M/215M [00:00<00:00, 709MB/s] \n"
          ]
        }
      ]
    },
    {
      "cell_type": "code",
      "source": [
        "# PREPARACIÓN DEL ENTORNO\n",
        "\n",
        "!pip install -q gradio faiss-cpu torchvision\n",
        "import os\n",
        "import numpy as np\n",
        "from PIL import Image\n",
        "from tqdm import tqdm\n",
        "import torch\n",
        "import torchvision.transforms as transforms\n",
        "from torchvision.models import resnet50\n",
        "import faiss"
      ],
      "metadata": {
        "id": "0FZE1JEcy6zg",
        "colab": {
          "base_uri": "https://localhost:8080/"
        },
        "outputId": "d0306f8b-a9ac-4dc8-8f54-c6c325e93525"
      },
      "execution_count": 4,
      "outputs": [
        {
          "output_type": "stream",
          "name": "stdout",
          "text": [
            "\u001b[2K   \u001b[90m━━━━━━━━━━━━━━━━━━━━━━━━━━━━━━━━━━━━━━━━\u001b[0m \u001b[32m31.3/31.3 MB\u001b[0m \u001b[31m57.4 MB/s\u001b[0m eta \u001b[36m0:00:00\u001b[0m\n",
            "\u001b[2K   \u001b[90m━━━━━━━━━━━━━━━━━━━━━━━━━━━━━━━━━━━━━━━━\u001b[0m \u001b[32m363.4/363.4 MB\u001b[0m \u001b[31m3.8 MB/s\u001b[0m eta \u001b[36m0:00:00\u001b[0m\n",
            "\u001b[2K   \u001b[90m━━━━━━━━━━━━━━━━━━━━━━━━━━━━━━━━━━━━━━━━\u001b[0m \u001b[32m13.8/13.8 MB\u001b[0m \u001b[31m102.7 MB/s\u001b[0m eta \u001b[36m0:00:00\u001b[0m\n",
            "\u001b[2K   \u001b[90m━━━━━━━━━━━━━━━━━━━━━━━━━━━━━━━━━━━━━━━━\u001b[0m \u001b[32m24.6/24.6 MB\u001b[0m \u001b[31m75.5 MB/s\u001b[0m eta \u001b[36m0:00:00\u001b[0m\n",
            "\u001b[2K   \u001b[90m━━━━━━━━━━━━━━━━━━━━━━━━━━━━━━━━━━━━━━━━\u001b[0m \u001b[32m883.7/883.7 kB\u001b[0m \u001b[31m57.5 MB/s\u001b[0m eta \u001b[36m0:00:00\u001b[0m\n",
            "\u001b[2K   \u001b[90m━━━━━━━━━━━━━━━━━━━━━━━━━━━━━━━━━━━━━━━━\u001b[0m \u001b[32m664.8/664.8 MB\u001b[0m \u001b[31m1.8 MB/s\u001b[0m eta \u001b[36m0:00:00\u001b[0m\n",
            "\u001b[2K   \u001b[90m━━━━━━━━━━━━━━━━━━━━━━━━━━━━━━━━━━━━━━━━\u001b[0m \u001b[32m211.5/211.5 MB\u001b[0m \u001b[31m5.7 MB/s\u001b[0m eta \u001b[36m0:00:00\u001b[0m\n",
            "\u001b[2K   \u001b[90m━━━━━━━━━━━━━━━━━━━━━━━━━━━━━━━━━━━━━━━━\u001b[0m \u001b[32m56.3/56.3 MB\u001b[0m \u001b[31m12.1 MB/s\u001b[0m eta \u001b[36m0:00:00\u001b[0m\n",
            "\u001b[2K   \u001b[90m━━━━━━━━━━━━━━━━━━━━━━━━━━━━━━━━━━━━━━━━\u001b[0m \u001b[32m127.9/127.9 MB\u001b[0m \u001b[31m8.1 MB/s\u001b[0m eta \u001b[36m0:00:00\u001b[0m\n",
            "\u001b[2K   \u001b[90m━━━━━━━━━━━━━━━━━━━━━━━━━━━━━━━━━━━━━━━━\u001b[0m \u001b[32m207.5/207.5 MB\u001b[0m \u001b[31m5.1 MB/s\u001b[0m eta \u001b[36m0:00:00\u001b[0m\n",
            "\u001b[2K   \u001b[90m━━━━━━━━━━━━━━━━━━━━━━━━━━━━━━━━━━━━━━━━\u001b[0m \u001b[32m21.1/21.1 MB\u001b[0m \u001b[31m84.7 MB/s\u001b[0m eta \u001b[36m0:00:00\u001b[0m\n",
            "\u001b[?25h"
          ]
        }
      ]
    },
    {
      "cell_type": "code",
      "source": [
        "# Mostrar las carpetas que existen en /content\n",
        "print(\"Contenido de /content:\")\n",
        "for nombre in os.listdir(\"/content\"):\n",
        "    print(\"-\", nombre)"
      ],
      "metadata": {
        "colab": {
          "base_uri": "https://localhost:8080/"
        },
        "id": "xt9rMYE32ggB",
        "outputId": "48275845-c3e4-41ee-d17e-afe001e3a1ec"
      },
      "execution_count": 5,
      "outputs": [
        {
          "output_type": "stream",
          "name": "stdout",
          "text": [
            "Contenido de /content:\n",
            "- .config\n",
            "- test\n",
            "- train\n",
            "- dogs.csv\n",
            "- kaggle.json\n",
            "- valid\n",
            "- 70-dog-breedsimage-data-set.zip\n",
            "- sample_data\n"
          ]
        }
      ]
    },
    {
      "cell_type": "code",
      "source": [
        "# CARGAR EL MODELO PREENTRENADO (ResNet 50) (sin la capa final de clasificación)\n",
        "model = resnet50(pretrained=True)\n",
        "model = torch.nn.Sequential(*(list(model.children())[:-1]))  # Quitar la última capa (fc)\n",
        "model.eval()\n",
        "device = torch.device(\"cuda\" if torch.cuda.is_available() else \"cpu\")\n",
        "model.to(device)"
      ],
      "metadata": {
        "colab": {
          "base_uri": "https://localhost:8080/"
        },
        "collapsed": true,
        "id": "SowvmmQqzMu9",
        "outputId": "f9829caa-7806-40ab-8fc6-dc72222bdad7"
      },
      "execution_count": 6,
      "outputs": [
        {
          "output_type": "stream",
          "name": "stderr",
          "text": [
            "/usr/local/lib/python3.11/dist-packages/torchvision/models/_utils.py:208: UserWarning: The parameter 'pretrained' is deprecated since 0.13 and may be removed in the future, please use 'weights' instead.\n",
            "  warnings.warn(\n",
            "/usr/local/lib/python3.11/dist-packages/torchvision/models/_utils.py:223: UserWarning: Arguments other than a weight enum or `None` for 'weights' are deprecated since 0.13 and may be removed in the future. The current behavior is equivalent to passing `weights=ResNet50_Weights.IMAGENET1K_V1`. You can also use `weights=ResNet50_Weights.DEFAULT` to get the most up-to-date weights.\n",
            "  warnings.warn(msg)\n",
            "Downloading: \"https://download.pytorch.org/models/resnet50-0676ba61.pth\" to /root/.cache/torch/hub/checkpoints/resnet50-0676ba61.pth\n",
            "100%|██████████| 97.8M/97.8M [00:01<00:00, 87.8MB/s]\n"
          ]
        },
        {
          "output_type": "execute_result",
          "data": {
            "text/plain": [
              "Sequential(\n",
              "  (0): Conv2d(3, 64, kernel_size=(7, 7), stride=(2, 2), padding=(3, 3), bias=False)\n",
              "  (1): BatchNorm2d(64, eps=1e-05, momentum=0.1, affine=True, track_running_stats=True)\n",
              "  (2): ReLU(inplace=True)\n",
              "  (3): MaxPool2d(kernel_size=3, stride=2, padding=1, dilation=1, ceil_mode=False)\n",
              "  (4): Sequential(\n",
              "    (0): Bottleneck(\n",
              "      (conv1): Conv2d(64, 64, kernel_size=(1, 1), stride=(1, 1), bias=False)\n",
              "      (bn1): BatchNorm2d(64, eps=1e-05, momentum=0.1, affine=True, track_running_stats=True)\n",
              "      (conv2): Conv2d(64, 64, kernel_size=(3, 3), stride=(1, 1), padding=(1, 1), bias=False)\n",
              "      (bn2): BatchNorm2d(64, eps=1e-05, momentum=0.1, affine=True, track_running_stats=True)\n",
              "      (conv3): Conv2d(64, 256, kernel_size=(1, 1), stride=(1, 1), bias=False)\n",
              "      (bn3): BatchNorm2d(256, eps=1e-05, momentum=0.1, affine=True, track_running_stats=True)\n",
              "      (relu): ReLU(inplace=True)\n",
              "      (downsample): Sequential(\n",
              "        (0): Conv2d(64, 256, kernel_size=(1, 1), stride=(1, 1), bias=False)\n",
              "        (1): BatchNorm2d(256, eps=1e-05, momentum=0.1, affine=True, track_running_stats=True)\n",
              "      )\n",
              "    )\n",
              "    (1): Bottleneck(\n",
              "      (conv1): Conv2d(256, 64, kernel_size=(1, 1), stride=(1, 1), bias=False)\n",
              "      (bn1): BatchNorm2d(64, eps=1e-05, momentum=0.1, affine=True, track_running_stats=True)\n",
              "      (conv2): Conv2d(64, 64, kernel_size=(3, 3), stride=(1, 1), padding=(1, 1), bias=False)\n",
              "      (bn2): BatchNorm2d(64, eps=1e-05, momentum=0.1, affine=True, track_running_stats=True)\n",
              "      (conv3): Conv2d(64, 256, kernel_size=(1, 1), stride=(1, 1), bias=False)\n",
              "      (bn3): BatchNorm2d(256, eps=1e-05, momentum=0.1, affine=True, track_running_stats=True)\n",
              "      (relu): ReLU(inplace=True)\n",
              "    )\n",
              "    (2): Bottleneck(\n",
              "      (conv1): Conv2d(256, 64, kernel_size=(1, 1), stride=(1, 1), bias=False)\n",
              "      (bn1): BatchNorm2d(64, eps=1e-05, momentum=0.1, affine=True, track_running_stats=True)\n",
              "      (conv2): Conv2d(64, 64, kernel_size=(3, 3), stride=(1, 1), padding=(1, 1), bias=False)\n",
              "      (bn2): BatchNorm2d(64, eps=1e-05, momentum=0.1, affine=True, track_running_stats=True)\n",
              "      (conv3): Conv2d(64, 256, kernel_size=(1, 1), stride=(1, 1), bias=False)\n",
              "      (bn3): BatchNorm2d(256, eps=1e-05, momentum=0.1, affine=True, track_running_stats=True)\n",
              "      (relu): ReLU(inplace=True)\n",
              "    )\n",
              "  )\n",
              "  (5): Sequential(\n",
              "    (0): Bottleneck(\n",
              "      (conv1): Conv2d(256, 128, kernel_size=(1, 1), stride=(1, 1), bias=False)\n",
              "      (bn1): BatchNorm2d(128, eps=1e-05, momentum=0.1, affine=True, track_running_stats=True)\n",
              "      (conv2): Conv2d(128, 128, kernel_size=(3, 3), stride=(2, 2), padding=(1, 1), bias=False)\n",
              "      (bn2): BatchNorm2d(128, eps=1e-05, momentum=0.1, affine=True, track_running_stats=True)\n",
              "      (conv3): Conv2d(128, 512, kernel_size=(1, 1), stride=(1, 1), bias=False)\n",
              "      (bn3): BatchNorm2d(512, eps=1e-05, momentum=0.1, affine=True, track_running_stats=True)\n",
              "      (relu): ReLU(inplace=True)\n",
              "      (downsample): Sequential(\n",
              "        (0): Conv2d(256, 512, kernel_size=(1, 1), stride=(2, 2), bias=False)\n",
              "        (1): BatchNorm2d(512, eps=1e-05, momentum=0.1, affine=True, track_running_stats=True)\n",
              "      )\n",
              "    )\n",
              "    (1): Bottleneck(\n",
              "      (conv1): Conv2d(512, 128, kernel_size=(1, 1), stride=(1, 1), bias=False)\n",
              "      (bn1): BatchNorm2d(128, eps=1e-05, momentum=0.1, affine=True, track_running_stats=True)\n",
              "      (conv2): Conv2d(128, 128, kernel_size=(3, 3), stride=(1, 1), padding=(1, 1), bias=False)\n",
              "      (bn2): BatchNorm2d(128, eps=1e-05, momentum=0.1, affine=True, track_running_stats=True)\n",
              "      (conv3): Conv2d(128, 512, kernel_size=(1, 1), stride=(1, 1), bias=False)\n",
              "      (bn3): BatchNorm2d(512, eps=1e-05, momentum=0.1, affine=True, track_running_stats=True)\n",
              "      (relu): ReLU(inplace=True)\n",
              "    )\n",
              "    (2): Bottleneck(\n",
              "      (conv1): Conv2d(512, 128, kernel_size=(1, 1), stride=(1, 1), bias=False)\n",
              "      (bn1): BatchNorm2d(128, eps=1e-05, momentum=0.1, affine=True, track_running_stats=True)\n",
              "      (conv2): Conv2d(128, 128, kernel_size=(3, 3), stride=(1, 1), padding=(1, 1), bias=False)\n",
              "      (bn2): BatchNorm2d(128, eps=1e-05, momentum=0.1, affine=True, track_running_stats=True)\n",
              "      (conv3): Conv2d(128, 512, kernel_size=(1, 1), stride=(1, 1), bias=False)\n",
              "      (bn3): BatchNorm2d(512, eps=1e-05, momentum=0.1, affine=True, track_running_stats=True)\n",
              "      (relu): ReLU(inplace=True)\n",
              "    )\n",
              "    (3): Bottleneck(\n",
              "      (conv1): Conv2d(512, 128, kernel_size=(1, 1), stride=(1, 1), bias=False)\n",
              "      (bn1): BatchNorm2d(128, eps=1e-05, momentum=0.1, affine=True, track_running_stats=True)\n",
              "      (conv2): Conv2d(128, 128, kernel_size=(3, 3), stride=(1, 1), padding=(1, 1), bias=False)\n",
              "      (bn2): BatchNorm2d(128, eps=1e-05, momentum=0.1, affine=True, track_running_stats=True)\n",
              "      (conv3): Conv2d(128, 512, kernel_size=(1, 1), stride=(1, 1), bias=False)\n",
              "      (bn3): BatchNorm2d(512, eps=1e-05, momentum=0.1, affine=True, track_running_stats=True)\n",
              "      (relu): ReLU(inplace=True)\n",
              "    )\n",
              "  )\n",
              "  (6): Sequential(\n",
              "    (0): Bottleneck(\n",
              "      (conv1): Conv2d(512, 256, kernel_size=(1, 1), stride=(1, 1), bias=False)\n",
              "      (bn1): BatchNorm2d(256, eps=1e-05, momentum=0.1, affine=True, track_running_stats=True)\n",
              "      (conv2): Conv2d(256, 256, kernel_size=(3, 3), stride=(2, 2), padding=(1, 1), bias=False)\n",
              "      (bn2): BatchNorm2d(256, eps=1e-05, momentum=0.1, affine=True, track_running_stats=True)\n",
              "      (conv3): Conv2d(256, 1024, kernel_size=(1, 1), stride=(1, 1), bias=False)\n",
              "      (bn3): BatchNorm2d(1024, eps=1e-05, momentum=0.1, affine=True, track_running_stats=True)\n",
              "      (relu): ReLU(inplace=True)\n",
              "      (downsample): Sequential(\n",
              "        (0): Conv2d(512, 1024, kernel_size=(1, 1), stride=(2, 2), bias=False)\n",
              "        (1): BatchNorm2d(1024, eps=1e-05, momentum=0.1, affine=True, track_running_stats=True)\n",
              "      )\n",
              "    )\n",
              "    (1): Bottleneck(\n",
              "      (conv1): Conv2d(1024, 256, kernel_size=(1, 1), stride=(1, 1), bias=False)\n",
              "      (bn1): BatchNorm2d(256, eps=1e-05, momentum=0.1, affine=True, track_running_stats=True)\n",
              "      (conv2): Conv2d(256, 256, kernel_size=(3, 3), stride=(1, 1), padding=(1, 1), bias=False)\n",
              "      (bn2): BatchNorm2d(256, eps=1e-05, momentum=0.1, affine=True, track_running_stats=True)\n",
              "      (conv3): Conv2d(256, 1024, kernel_size=(1, 1), stride=(1, 1), bias=False)\n",
              "      (bn3): BatchNorm2d(1024, eps=1e-05, momentum=0.1, affine=True, track_running_stats=True)\n",
              "      (relu): ReLU(inplace=True)\n",
              "    )\n",
              "    (2): Bottleneck(\n",
              "      (conv1): Conv2d(1024, 256, kernel_size=(1, 1), stride=(1, 1), bias=False)\n",
              "      (bn1): BatchNorm2d(256, eps=1e-05, momentum=0.1, affine=True, track_running_stats=True)\n",
              "      (conv2): Conv2d(256, 256, kernel_size=(3, 3), stride=(1, 1), padding=(1, 1), bias=False)\n",
              "      (bn2): BatchNorm2d(256, eps=1e-05, momentum=0.1, affine=True, track_running_stats=True)\n",
              "      (conv3): Conv2d(256, 1024, kernel_size=(1, 1), stride=(1, 1), bias=False)\n",
              "      (bn3): BatchNorm2d(1024, eps=1e-05, momentum=0.1, affine=True, track_running_stats=True)\n",
              "      (relu): ReLU(inplace=True)\n",
              "    )\n",
              "    (3): Bottleneck(\n",
              "      (conv1): Conv2d(1024, 256, kernel_size=(1, 1), stride=(1, 1), bias=False)\n",
              "      (bn1): BatchNorm2d(256, eps=1e-05, momentum=0.1, affine=True, track_running_stats=True)\n",
              "      (conv2): Conv2d(256, 256, kernel_size=(3, 3), stride=(1, 1), padding=(1, 1), bias=False)\n",
              "      (bn2): BatchNorm2d(256, eps=1e-05, momentum=0.1, affine=True, track_running_stats=True)\n",
              "      (conv3): Conv2d(256, 1024, kernel_size=(1, 1), stride=(1, 1), bias=False)\n",
              "      (bn3): BatchNorm2d(1024, eps=1e-05, momentum=0.1, affine=True, track_running_stats=True)\n",
              "      (relu): ReLU(inplace=True)\n",
              "    )\n",
              "    (4): Bottleneck(\n",
              "      (conv1): Conv2d(1024, 256, kernel_size=(1, 1), stride=(1, 1), bias=False)\n",
              "      (bn1): BatchNorm2d(256, eps=1e-05, momentum=0.1, affine=True, track_running_stats=True)\n",
              "      (conv2): Conv2d(256, 256, kernel_size=(3, 3), stride=(1, 1), padding=(1, 1), bias=False)\n",
              "      (bn2): BatchNorm2d(256, eps=1e-05, momentum=0.1, affine=True, track_running_stats=True)\n",
              "      (conv3): Conv2d(256, 1024, kernel_size=(1, 1), stride=(1, 1), bias=False)\n",
              "      (bn3): BatchNorm2d(1024, eps=1e-05, momentum=0.1, affine=True, track_running_stats=True)\n",
              "      (relu): ReLU(inplace=True)\n",
              "    )\n",
              "    (5): Bottleneck(\n",
              "      (conv1): Conv2d(1024, 256, kernel_size=(1, 1), stride=(1, 1), bias=False)\n",
              "      (bn1): BatchNorm2d(256, eps=1e-05, momentum=0.1, affine=True, track_running_stats=True)\n",
              "      (conv2): Conv2d(256, 256, kernel_size=(3, 3), stride=(1, 1), padding=(1, 1), bias=False)\n",
              "      (bn2): BatchNorm2d(256, eps=1e-05, momentum=0.1, affine=True, track_running_stats=True)\n",
              "      (conv3): Conv2d(256, 1024, kernel_size=(1, 1), stride=(1, 1), bias=False)\n",
              "      (bn3): BatchNorm2d(1024, eps=1e-05, momentum=0.1, affine=True, track_running_stats=True)\n",
              "      (relu): ReLU(inplace=True)\n",
              "    )\n",
              "  )\n",
              "  (7): Sequential(\n",
              "    (0): Bottleneck(\n",
              "      (conv1): Conv2d(1024, 512, kernel_size=(1, 1), stride=(1, 1), bias=False)\n",
              "      (bn1): BatchNorm2d(512, eps=1e-05, momentum=0.1, affine=True, track_running_stats=True)\n",
              "      (conv2): Conv2d(512, 512, kernel_size=(3, 3), stride=(2, 2), padding=(1, 1), bias=False)\n",
              "      (bn2): BatchNorm2d(512, eps=1e-05, momentum=0.1, affine=True, track_running_stats=True)\n",
              "      (conv3): Conv2d(512, 2048, kernel_size=(1, 1), stride=(1, 1), bias=False)\n",
              "      (bn3): BatchNorm2d(2048, eps=1e-05, momentum=0.1, affine=True, track_running_stats=True)\n",
              "      (relu): ReLU(inplace=True)\n",
              "      (downsample): Sequential(\n",
              "        (0): Conv2d(1024, 2048, kernel_size=(1, 1), stride=(2, 2), bias=False)\n",
              "        (1): BatchNorm2d(2048, eps=1e-05, momentum=0.1, affine=True, track_running_stats=True)\n",
              "      )\n",
              "    )\n",
              "    (1): Bottleneck(\n",
              "      (conv1): Conv2d(2048, 512, kernel_size=(1, 1), stride=(1, 1), bias=False)\n",
              "      (bn1): BatchNorm2d(512, eps=1e-05, momentum=0.1, affine=True, track_running_stats=True)\n",
              "      (conv2): Conv2d(512, 512, kernel_size=(3, 3), stride=(1, 1), padding=(1, 1), bias=False)\n",
              "      (bn2): BatchNorm2d(512, eps=1e-05, momentum=0.1, affine=True, track_running_stats=True)\n",
              "      (conv3): Conv2d(512, 2048, kernel_size=(1, 1), stride=(1, 1), bias=False)\n",
              "      (bn3): BatchNorm2d(2048, eps=1e-05, momentum=0.1, affine=True, track_running_stats=True)\n",
              "      (relu): ReLU(inplace=True)\n",
              "    )\n",
              "    (2): Bottleneck(\n",
              "      (conv1): Conv2d(2048, 512, kernel_size=(1, 1), stride=(1, 1), bias=False)\n",
              "      (bn1): BatchNorm2d(512, eps=1e-05, momentum=0.1, affine=True, track_running_stats=True)\n",
              "      (conv2): Conv2d(512, 512, kernel_size=(3, 3), stride=(1, 1), padding=(1, 1), bias=False)\n",
              "      (bn2): BatchNorm2d(512, eps=1e-05, momentum=0.1, affine=True, track_running_stats=True)\n",
              "      (conv3): Conv2d(512, 2048, kernel_size=(1, 1), stride=(1, 1), bias=False)\n",
              "      (bn3): BatchNorm2d(2048, eps=1e-05, momentum=0.1, affine=True, track_running_stats=True)\n",
              "      (relu): ReLU(inplace=True)\n",
              "    )\n",
              "  )\n",
              "  (8): AdaptiveAvgPool2d(output_size=(1, 1))\n",
              ")"
            ]
          },
          "metadata": {},
          "execution_count": 6
        }
      ]
    },
    {
      "cell_type": "code",
      "source": [
        "# PREPROCESAMIENTO DE IMÁGENES\n",
        "\n",
        "# Transformaciones requeridas por ResNet\n",
        "transform = transforms.Compose([\n",
        "    transforms.Resize((224, 224)),\n",
        "    transforms.ToTensor(),\n",
        "    transforms.Normalize(\n",
        "        mean=[0.485, 0.456, 0.406],  # Imagenet\n",
        "        std=[0.229, 0.224, 0.225]\n",
        "    )\n",
        "])"
      ],
      "metadata": {
        "id": "IxfZtexlzO5B"
      },
      "execution_count": 7,
      "outputs": []
    },
    {
      "cell_type": "code",
      "source": [
        "# FUNCIÓN PARA EXTRAER LOS EMBEDDINGS\n",
        "\n",
        "def extract_embedding(img_path):\n",
        "    image = Image.open(img_path).convert('RGB')\n",
        "    img_tensor = transform(image).unsqueeze(0).to(device)\n",
        "    with torch.no_grad():\n",
        "        embedding = model(img_tensor).squeeze().cpu().numpy()\n",
        "    return embedding"
      ],
      "metadata": {
        "id": "DEYCYhwMzh1g"
      },
      "execution_count": 8,
      "outputs": []
    },
    {
      "cell_type": "code",
      "source": [
        "# PROCESAR EL DATASET Y CONSTRUIR LOS VECTORES\n",
        "\n",
        "# Cargar todas las imágenes y extraer embeddings\n",
        "image_paths = []\n",
        "embeddings = []\n",
        "\n",
        "dataset_paths = [\"/content/train\", \"/content/valid\"] #saque , \"/content/test\" para usarlo después (VER ESTO)\n",
        "image_paths = []\n",
        "embeddings = []\n",
        "\n",
        "for dataset_path in dataset_paths:\n",
        "    for root, dirs, files in os.walk(dataset_path):\n",
        "        for file in files:\n",
        "            if file.lower().endswith((\".jpg\", \".jpeg\", \".png\")):\n",
        "                path = os.path.join(root, file)\n",
        "                try:\n",
        "                    emb = extract_embedding(path)\n",
        "                    image_paths.append(path)\n",
        "                    embeddings.append(emb)\n",
        "                except Exception as e:\n",
        "                    print(f\"Error al procesar {path}: {e}\")\n",
        "\n",
        "embeddings = np.array(embeddings).astype('float32')\n",
        "print(f\"Total imágenes procesadas: {len(embeddings)}\")"
      ],
      "metadata": {
        "colab": {
          "base_uri": "https://localhost:8080/"
        },
        "id": "sqwVgd87zoEe",
        "outputId": "a0efa94f-3e33-43b4-be85-5ded81c66679"
      },
      "execution_count": 9,
      "outputs": [
        {
          "output_type": "stream",
          "name": "stdout",
          "text": [
            "Total imágenes procesadas: 8646\n"
          ]
        }
      ]
    },
    {
      "cell_type": "code",
      "source": [
        "# INDEXAR EN BDD VECTORIAL (FAISS)\n",
        "# Crear el índice FAISS\n",
        "index = faiss.IndexFlatL2(embeddings.shape[1])\n",
        "index.add(embeddings)"
      ],
      "metadata": {
        "id": "H4qa8_791oyi"
      },
      "execution_count": 10,
      "outputs": []
    },
    {
      "cell_type": "code",
      "source": [
        "# guardar embeddings.npy e image_paths.txt para evitar procesarlos de nuevo si se relanza el entorno (VER!!!)\n",
        "\"\"\"np.save(\"embeddings.npy\", embeddings)\n",
        "with open(\"image_paths.txt\", \"w\") as f:\n",
        "    f.write(\"\\n\".join(image_paths))\"\"\""
      ],
      "metadata": {
        "id": "8gruI62zaHUc"
      },
      "execution_count": null,
      "outputs": []
    },
    {
      "cell_type": "code",
      "source": [
        "\"\"\"embeddings = np.load(\"embeddings.npy\")\n",
        "with open(\"image_paths.txt\") as f:\n",
        "    image_paths = f.read().splitlines()\"\"\""
      ],
      "metadata": {
        "id": "SL1MrF1FaKIa"
      },
      "execution_count": null,
      "outputs": []
    },
    {
      "cell_type": "markdown",
      "source": [
        "## Desarrollo de la Aplicación en Gradio"
      ],
      "metadata": {
        "id": "EME4ROCgwOcd"
      }
    },
    {
      "cell_type": "code",
      "source": [
        "# FUNCIÓN DE BUSQUEDA EN FAISS\n",
        "def buscar_similares(img_path, k=10):\n",
        "  'toma una imagen, extrae su embedding, busca en FAISS, devuelve las 10 rutas más similares.'\n",
        "  query_emb = extract_embedding(img_path).astype('float32').reshape(1, -1)\n",
        "  distances, indices = index.search(query_emb, k)\n",
        "  resultados = [image_paths[i] for i in indices[0]]\n",
        "  return resultados"
      ],
      "metadata": {
        "id": "MnVINzwq3v8K"
      },
      "execution_count": null,
      "outputs": []
    },
    {
      "cell_type": "code",
      "source": [
        "# INTERFAZ EN GRADIO\n",
        "import gradio as gr\n",
        "def interfaz_gradio(imagen):\n",
        "    # Guardar la imagen temporalmente\n",
        "    temp_path = \"/content/temp.jpg\"\n",
        "    imagen.save(temp_path)\n",
        "\n",
        "    # Buscar similares\n",
        "    similares = buscar_similares(temp_path)\n",
        "\n",
        "    # Cargar las imágenes similares\n",
        "    resultados = [Image.open(p) for p in similares]\n",
        "\n",
        "    return resultados"
      ],
      "metadata": {
        "id": "0VZGVzjD4IE0"
      },
      "execution_count": null,
      "outputs": []
    },
    {
      "cell_type": "code",
      "source": [
        "# Lanzar interfaz\n",
        "gr.Interface(\n",
        "    fn=interfaz_gradio,\n",
        "    inputs=gr.Image(type=\"pil\"),\n",
        "    outputs=[gr.Image(type=\"pil\", label=f\"Similar #{i+1}\") for i in range(10)],\n",
        "    title=\"Buscador de Razas de Perros por Similitud\",\n",
        "    description=\"Subí una imagen de un perro y te mostramos las 10 más similares del dataset.\"\n",
        ").launch(debug=True)"
      ],
      "metadata": {
        "colab": {
          "base_uri": "https://localhost:8080/",
          "height": 784
        },
        "id": "JnL3_o5C4UG-",
        "outputId": "281c8f3d-c44f-4590-d5ac-58f0ed7936ab"
      },
      "execution_count": null,
      "outputs": [
        {
          "output_type": "stream",
          "name": "stdout",
          "text": [
            "It looks like you are running Gradio on a hosted a Jupyter notebook. For the Gradio app to work, sharing must be enabled. Automatically setting `share=True` (you can turn this off by setting `share=False` in `launch()` explicitly).\n",
            "\n",
            "Colab notebook detected. This cell will run indefinitely so that you can see errors and logs. To turn off, set debug=False in launch().\n",
            "* Running on public URL: https://cc0542b2a2f1ce36e9.gradio.live\n",
            "\n",
            "This share link expires in 1 week. For free permanent hosting and GPU upgrades, run `gradio deploy` from the terminal in the working directory to deploy to Hugging Face Spaces (https://huggingface.co/spaces)\n"
          ]
        },
        {
          "output_type": "display_data",
          "data": {
            "text/plain": [
              "<IPython.core.display.HTML object>"
            ],
            "text/html": [
              "<div><iframe src=\"https://cc0542b2a2f1ce36e9.gradio.live\" width=\"100%\" height=\"500\" allow=\"autoplay; camera; microphone; clipboard-read; clipboard-write;\" frameborder=\"0\" allowfullscreen></iframe></div>"
            ]
          },
          "metadata": {}
        },
        {
          "output_type": "stream",
          "name": "stderr",
          "text": [
            "/usr/local/lib/python3.11/dist-packages/gradio/blocks.py:1895: UserWarning: A function (interfaz_gradio) returned too many output values (needed: 10, returned: 12). Ignoring extra values.\n",
            "    Output components:\n",
            "        [image, image, image, image, image, image, image, image, image, image]\n",
            "    Output values returned:\n",
            "        [<PIL.Image.Image image mode=RGB size=612x512 at 0x7D7D02AABE90>, <PIL.JpegImagePlugin.JpegImageFile image mode=RGB size=224x224 at 0x7D7D021C9590>, <PIL.JpegImagePlugin.JpegImageFile image mode=RGB size=224x224 at 0x7D7D021CAA50>, <PIL.JpegImagePlugin.JpegImageFile image mode=RGB size=224x224 at 0x7D7D021E0150>, <PIL.JpegImagePlugin.JpegImageFile image mode=RGB size=224x224 at 0x7D7D021E1490>, <PIL.JpegImagePlugin.JpegImageFile image mode=RGB size=224x224 at 0x7D7D035BECD0>, <PIL.JpegImagePlugin.JpegImageFile image mode=RGB size=224x224 at 0x7D7D03594B90>, <PIL.JpegImagePlugin.JpegImageFile image mode=RGB size=224x224 at 0x7D7D021CFE90>, <PIL.JpegImagePlugin.JpegImageFile image mode=RGB size=224x224 at 0x7D7D02CA5C50>, <PIL.JpegImagePlugin.JpegImageFile image mode=RGB size=224x224 at 0x7D7D03588450>, <PIL.JpegImagePlugin.JpegImageFile image mode=RGB size=224x224 at 0x7D7D03588110>, \"Raza predicha: Golden Retriever\"]\n",
            "  warnings.warn(\n"
          ]
        },
        {
          "output_type": "stream",
          "name": "stdout",
          "text": [
            "Keyboard interruption in main thread... closing server.\n",
            "Killing tunnel 127.0.0.1:7860 <> https://cc0542b2a2f1ce36e9.gradio.live\n"
          ]
        },
        {
          "output_type": "execute_result",
          "data": {
            "text/plain": []
          },
          "metadata": {},
          "execution_count": 48
        }
      ]
    },
    {
      "cell_type": "markdown",
      "source": [
        "## Clasificación Basada en Similitud y Métrica de Evaluación"
      ],
      "metadata": {
        "id": "ofVpkICtwSZt"
      }
    },
    {
      "cell_type": "code",
      "source": [
        "# PARA CLASIFICACIÓN POR VOTO MAYORITARIO, ES NECESARIO EXTRAER LA RAZA REAL DESDE EL PATH DE CADA IMAGEN\n",
        "# como en el dataset las carpetas se llaman como la raza\n",
        "\n",
        "def extraer_raza(path):\n",
        "    return os.path.basename(os.path.dirname(path))"
      ],
      "metadata": {
        "id": "rctJLFsM5_pA"
      },
      "execution_count": null,
      "outputs": []
    },
    {
      "cell_type": "code",
      "source": [
        "# en interfaz_gradio, se agrega el voto mayoritario sobre las razas de las 10 imágenes recuperadas\n",
        "from collections import Counter\n",
        "\n",
        "def interfaz_gradio(imagen):\n",
        "    temp_path = \"/content/temp.jpg\"\n",
        "    imagen.save(temp_path)\n",
        "\n",
        "    similares = buscar_similares(temp_path)\n",
        "    resultados = [Image.open(p) for p in similares]\n",
        "\n",
        "    # Voto mayoritario\n",
        "    razas = [extraer_raza(p) for p in similares]\n",
        "    raza_predicha = Counter(razas).most_common(1)[0][0]\n",
        "\n",
        "    return [imagen] + resultados + [f\"Raza predicha: {raza_predicha}\"]"
      ],
      "metadata": {
        "id": "iFu6xwvt6TT5"
      },
      "execution_count": null,
      "outputs": []
    },
    {
      "cell_type": "code",
      "source": [
        "# cambio la interfaz para que también muestre la imagen subida y el texto\n",
        "\n",
        "gr.Interface(\n",
        "    fn=interfaz_gradio,\n",
        "    inputs=gr.Image(type=\"pil\"),\n",
        "    outputs=[gr.Image(type=\"pil\", label=\"Imagen de entrada\")] +\n",
        "            [gr.Image(type=\"pil\", label=f\"Similar #{i+1}\") for i in range(10)] +\n",
        "            [gr.Textbox(label=\"Raza Predicha\")],\n",
        "    title=\"Buscador de Razas de Perros por Similitud\",\n",
        "    description=\"Subí una imagen de un perro y te mostramos las 10 más similares del dataset y la raza más probable.\"\n",
        ").launch(debug=True)"
      ],
      "metadata": {
        "colab": {
          "base_uri": "https://localhost:8080/",
          "height": 680
        },
        "collapsed": true,
        "id": "jy5gTnw86aH7",
        "outputId": "894e960c-915b-4143-9357-62ad43b33a4a"
      },
      "execution_count": null,
      "outputs": [
        {
          "output_type": "stream",
          "name": "stdout",
          "text": [
            "It looks like you are running Gradio on a hosted a Jupyter notebook. For the Gradio app to work, sharing must be enabled. Automatically setting `share=True` (you can turn this off by setting `share=False` in `launch()` explicitly).\n",
            "\n",
            "Colab notebook detected. This cell will run indefinitely so that you can see errors and logs. To turn off, set debug=False in launch().\n",
            "* Running on public URL: https://cc8ec2dd0fe7abbe1b.gradio.live\n",
            "\n",
            "This share link expires in 1 week. For free permanent hosting and GPU upgrades, run `gradio deploy` from the terminal in the working directory to deploy to Hugging Face Spaces (https://huggingface.co/spaces)\n"
          ]
        },
        {
          "output_type": "display_data",
          "data": {
            "text/plain": [
              "<IPython.core.display.HTML object>"
            ],
            "text/html": [
              "<div><iframe src=\"https://cc8ec2dd0fe7abbe1b.gradio.live\" width=\"100%\" height=\"500\" allow=\"autoplay; camera; microphone; clipboard-read; clipboard-write;\" frameborder=\"0\" allowfullscreen></iframe></div>"
            ]
          },
          "metadata": {}
        },
        {
          "output_type": "stream",
          "name": "stdout",
          "text": [
            "Keyboard interruption in main thread... closing server.\n",
            "Killing tunnel 127.0.0.1:7860 <> https://cc8ec2dd0fe7abbe1b.gradio.live\n"
          ]
        },
        {
          "output_type": "execute_result",
          "data": {
            "text/plain": []
          },
          "metadata": {},
          "execution_count": 49
        }
      ]
    },
    {
      "cell_type": "code",
      "source": [
        "#  Cálculo de NDCG@10\n",
        "\n",
        "def extraer_raza(path):\n",
        "    return os.path.basename(os.path.dirname(path))\n",
        "\n",
        "def dcg(relevancias):\n",
        "    return sum(rel / np.log2(idx + 2) for idx, rel in enumerate(relevancias))\n",
        "\n",
        "def ndcg(relevancias):\n",
        "    ideal = sorted(relevancias, reverse=True)\n",
        "    return dcg(relevancias) / (dcg(ideal) + 1e-8)\n",
        "\n",
        "def evaluar_ndcg(test_images, k=10):\n",
        "    scores = []\n",
        "\n",
        "    for img_path in tqdm(test_images):\n",
        "        true_raza = extraer_raza(img_path)\n",
        "        similares = buscar_similares(img_path, k=k)\n",
        "        razas_similares = [extraer_raza(p) for p in similares]\n",
        "\n",
        "        relevancias = [1 if raza == true_raza else 0 for raza in razas_similares]\n",
        "        score = ndcg(relevancias)\n",
        "        scores.append(score)\n",
        "\n",
        "    ndcg_promedio = np.mean(scores)\n",
        "    print(f\"NDCG@{k} promedio: {ndcg_promedio:.4f}\")"
      ],
      "metadata": {
        "id": "nTSqO1yL7OVL"
      },
      "execution_count": null,
      "outputs": []
    },
    {
      "cell_type": "code",
      "source": [
        "# Ejemplo: usar 5 imágenes de prueba por raza\n",
        "from collections import defaultdict\n",
        "\n",
        "test_set = []\n",
        "razas_vistas = defaultdict(int)\n",
        "\n",
        "for root, dirs, files in os.walk(\"/content/test\"):\n",
        "    for file in files:\n",
        "        if file.lower().endswith((\".jpg\", \".jpeg\", \".png\")):\n",
        "            raza = os.path.basename(root)\n",
        "            if razas_vistas[raza] < 5:\n",
        "                test_set.append(os.path.join(root, file))\n",
        "                razas_vistas[raza] += 1\n",
        "\n",
        "print(f\"Imágenes de prueba: {len(test_set)}\")"
      ],
      "metadata": {
        "colab": {
          "base_uri": "https://localhost:8080/"
        },
        "id": "OdFKOLNS7Qxj",
        "outputId": "0151fe77-636b-496a-8c7b-bb9d03c16d9c"
      },
      "execution_count": null,
      "outputs": [
        {
          "output_type": "stream",
          "name": "stdout",
          "text": [
            "Imágenes de prueba: 350\n"
          ]
        }
      ]
    },
    {
      "cell_type": "code",
      "source": [
        "evaluar_ndcg(test_set, k=10)"
      ],
      "metadata": {
        "colab": {
          "base_uri": "https://localhost:8080/"
        },
        "id": "BvzZAMxo8BQq",
        "outputId": "ca4c04a0-f691-4d04-cf7a-0f99e1d7f90d"
      },
      "execution_count": null,
      "outputs": [
        {
          "output_type": "stream",
          "name": "stderr",
          "text": [
            "100%|██████████| 350/350 [00:05<00:00, 59.97it/s]"
          ]
        },
        {
          "output_type": "stream",
          "name": "stdout",
          "text": [
            "NDCG@10 promedio: 0.9733\n"
          ]
        },
        {
          "output_type": "stream",
          "name": "stderr",
          "text": [
            "\n"
          ]
        }
      ]
    },
    {
      "cell_type": "markdown",
      "source": [
        "# Etapa 2: Entrenamiento y Comparación de Modelos de Clasificación"
      ],
      "metadata": {
        "id": "awypW0Lyvp2n"
      }
    },
    {
      "cell_type": "markdown",
      "source": [
        "## Entrenamiento de Modelos"
      ],
      "metadata": {
        "id": "RTTumFPrv3nJ"
      }
    },
    {
      "cell_type": "markdown",
      "source": [
        "Se detallan los pasos a seguir:\n",
        "\n",
        "1. Preparar el dataset en formato ImageFolder para torchvision.datasets.\n",
        "\n",
        "2. Dividir en entrenamiento y validación.\n",
        "\n",
        "3. Entrenar ResNet18 con fine-tuning.\n",
        "\n",
        "4. Calcular métricas: Precisión, Exactitud, Sensibilidad, Especificidad y F1.\n",
        "\n"
      ],
      "metadata": {
        "id": "mAEvVrMUHFYD"
      }
    },
    {
      "cell_type": "code",
      "source": [
        "# CARGAR EL DATA\n",
        "\n",
        "from torchvision import datasets, models, transforms\n",
        "from torch.utils.data import DataLoader\n",
        "\n",
        "# Transformaciones para entrenamiento y validación\n",
        "base_transform = [\n",
        "    transforms.Resize((224, 224)),\n",
        "    transforms.ToTensor(),\n",
        "    transforms.Normalize(mean=[0.485, 0.456, 0.406],\n",
        "                         std=[0.229, 0.224, 0.225])\n",
        "]\n",
        "\n",
        "transform_train = transforms.Compose([\n",
        "    transforms.RandomHorizontalFlip()\n",
        "] + base_transform)\n",
        "\n",
        "transform_val = transforms.Compose(base_transform)\n",
        "\n",
        "# Carga del dataset\n",
        "def get_dataloader(data_dir, transform, batch_size=32, shuffle=False):\n",
        "    dataset = datasets.ImageFolder(data_dir, transform=transform)\n",
        "    loader = DataLoader(dataset, batch_size=batch_size, shuffle=shuffle, num_workers=2)\n",
        "    return dataset, loader\n",
        "\n",
        "train_dataset, train_loader = get_dataloader('/content/train', transform_train, shuffle=True)\n",
        "val_dataset, val_loader = get_dataloader('/content/valid', transform_val)\n",
        "\n",
        "# Ver clases\n",
        "class_names = train_dataset.classes\n",
        "num_classes = len(class_names)\n",
        "print(f\"Total de clases: {num_classes}\")"
      ],
      "metadata": {
        "colab": {
          "base_uri": "https://localhost:8080/"
        },
        "id": "PQx-DzNMHqXh",
        "outputId": "e9dcc885-cbad-459a-cf56-698b52f3a9b0"
      },
      "execution_count": 40,
      "outputs": [
        {
          "output_type": "stream",
          "name": "stdout",
          "text": [
            "Total de clases: 70\n"
          ]
        }
      ]
    },
    {
      "cell_type": "markdown",
      "source": [
        "### Modelo A (Transfer Learning)"
      ],
      "metadata": {
        "id": "L5Lbb7cEv6JZ"
      }
    },
    {
      "cell_type": "code",
      "source": [
        "# CARGAR EL MODELO Y AJUSTAR LA ÚLTIMA CAPA (fine-tuning ResNet18)\n",
        "\n",
        "import torch\n",
        "import torch.nn as nn\n",
        "import torch.optim as optim\n",
        "from torchvision import models  # ✅ esto es lo que faltaba\n",
        "\n",
        "device = torch.device(\"cuda\" if torch.cuda.is_available() else \"cpu\")\n",
        "\n",
        "# Cargar modelo preentrenado y ajustar la capa final\n",
        "def get_finetuned_resnet18(num_classes):\n",
        "    model = models.resnet18(pretrained=True)\n",
        "    model.fc = nn.Linear(model.fc.in_features, num_classes)\n",
        "    return model.to(device)\n",
        "\n",
        "# Inicializar modelo, loss y optimizador\n",
        "model_ft = get_finetuned_resnet18(num_classes)\n",
        "criterion = nn.CrossEntropyLoss()\n",
        "optimizer = optim.Adam(model_ft.parameters(), lr=0.001)"
      ],
      "metadata": {
        "colab": {
          "base_uri": "https://localhost:8080/"
        },
        "id": "eQVYTJ3tIAEt",
        "outputId": "2ab71001-0efd-450e-ff3f-ede298854dd4"
      },
      "execution_count": 41,
      "outputs": [
        {
          "output_type": "stream",
          "name": "stderr",
          "text": [
            "/usr/local/lib/python3.11/dist-packages/torchvision/models/_utils.py:208: UserWarning: The parameter 'pretrained' is deprecated since 0.13 and may be removed in the future, please use 'weights' instead.\n",
            "  warnings.warn(\n",
            "/usr/local/lib/python3.11/dist-packages/torchvision/models/_utils.py:223: UserWarning: Arguments other than a weight enum or `None` for 'weights' are deprecated since 0.13 and may be removed in the future. The current behavior is equivalent to passing `weights=ResNet18_Weights.IMAGENET1K_V1`. You can also use `weights=ResNet18_Weights.DEFAULT` to get the most up-to-date weights.\n",
            "  warnings.warn(msg)\n"
          ]
        }
      ]
    },
    {
      "cell_type": "code",
      "source": [
        "def run_epoch(model, loader, criterion, optimizer=None):\n",
        "    is_train = optimizer is not None\n",
        "    model.train() if is_train else model.eval()\n",
        "\n",
        "    running_loss = 0.0\n",
        "    running_corrects = 0\n",
        "    preds_all, labels_all = [], []\n",
        "\n",
        "    for inputs, labels in tqdm(loader, leave=False):\n",
        "        inputs, labels = inputs.to(device), labels.to(device)\n",
        "\n",
        "        if is_train:\n",
        "            optimizer.zero_grad()\n",
        "\n",
        "        with torch.set_grad_enabled(is_train):\n",
        "            outputs = model(inputs)\n",
        "            loss = criterion(outputs, labels)\n",
        "            _, preds = torch.max(outputs, 1)\n",
        "\n",
        "            if is_train:\n",
        "                loss.backward()\n",
        "                optimizer.step()\n",
        "\n",
        "        running_loss += loss.item() * inputs.size(0)\n",
        "        running_corrects += (preds == labels).sum().item()\n",
        "        preds_all.extend(preds.cpu().numpy())\n",
        "        labels_all.extend(labels.cpu().numpy())\n",
        "\n",
        "    epoch_loss = running_loss / len(loader.dataset)\n",
        "    epoch_acc = running_corrects / len(loader.dataset)\n",
        "    return epoch_loss, epoch_acc, preds_all, labels_all"
      ],
      "metadata": {
        "id": "uFdB_0ascKhU"
      },
      "execution_count": 43,
      "outputs": []
    },
    {
      "cell_type": "code",
      "source": [
        "# ENTRENAMIENTO DEL MODELO\n",
        "from tqdm import tqdm\n",
        "import numpy as np\n",
        "import copy\n",
        "\n",
        "# ENTRENAMIENTO DEL MODELO CON EARLY STOPPING Y BARRA DE PROGRESO\n",
        "def train_model(model, criterion, optimizer, train_loader, val_loader, num_epochs=10, patience=3):\n",
        "    best_acc, epochs_no_improve = 0.0, 0\n",
        "    best_model_wts = copy.deepcopy(model.state_dict())\n",
        "\n",
        "    history = {'train_loss': [], 'train_acc': [], 'val_loss': [], 'val_acc': []}\n",
        "\n",
        "    for epoch in range(num_epochs):\n",
        "        print(f\"\\nEpoch {epoch+1}/{num_epochs}\")\n",
        "\n",
        "        train_loss, train_acc, _, _ = run_epoch(model, train_loader, criterion, optimizer)\n",
        "        val_loss, val_acc, y_pred, y_true = run_epoch(model, val_loader, criterion)\n",
        "\n",
        "        history['train_loss'].append(train_loss)\n",
        "        history['train_acc'].append(train_acc)\n",
        "        history['val_loss'].append(val_loss)\n",
        "        history['val_acc'].append(val_acc)\n",
        "\n",
        "        print(f\"Loss: {train_loss:.4f} - Acc: {train_acc:.4f} - Val_Loss: {val_loss:.4f} - Val_Acc: {val_acc:.4f}\")\n",
        "\n",
        "        if val_acc > best_acc:\n",
        "            best_acc = val_acc\n",
        "            best_model_wts = copy.deepcopy(model.state_dict())\n",
        "            epochs_no_improve = 0\n",
        "        else:\n",
        "            epochs_no_improve += 1\n",
        "            if epochs_no_improve >= patience:\n",
        "                print(f\"\\n🛑 Early stopping activado. Mejor val_accuracy: {best_acc:.4f}\")\n",
        "                break\n",
        "\n",
        "    model.load_state_dict(best_model_wts)\n",
        "    return model, y_pred, y_true, history"
      ],
      "metadata": {
        "id": "z82bRUzKIPt5"
      },
      "execution_count": 47,
      "outputs": []
    },
    {
      "cell_type": "code",
      "source": [
        "model_ft, y_pred, y_true, history = train_model(\n",
        "    model_ft, criterion, optimizer, train_loader, val_loader,\n",
        "    num_epochs=40, patience=5\n",
        ")"
      ],
      "metadata": {
        "colab": {
          "base_uri": "https://localhost:8080/"
        },
        "id": "se8EiLQnIhTq",
        "outputId": "14b7d764-c7d8-411e-ad93-941926ea0935"
      },
      "execution_count": 48,
      "outputs": [
        {
          "output_type": "stream",
          "name": "stdout",
          "text": [
            "\n",
            "Epoch 1/40\n"
          ]
        },
        {
          "output_type": "stream",
          "name": "stderr",
          "text": []
        },
        {
          "output_type": "stream",
          "name": "stdout",
          "text": [
            "Loss: 1.6680 - Acc: 0.5394 - Val_Loss: 1.9721 - Val_Acc: 0.5043\n",
            "\n",
            "Epoch 2/40\n"
          ]
        },
        {
          "output_type": "stream",
          "name": "stderr",
          "text": []
        },
        {
          "output_type": "stream",
          "name": "stdout",
          "text": [
            "Loss: 0.8872 - Acc: 0.7282 - Val_Loss: 1.2146 - Val_Acc: 0.7014\n",
            "\n",
            "Epoch 3/40\n"
          ]
        },
        {
          "output_type": "stream",
          "name": "stderr",
          "text": []
        },
        {
          "output_type": "stream",
          "name": "stdout",
          "text": [
            "Loss: 0.6751 - Acc: 0.7833 - Val_Loss: 0.9502 - Val_Acc: 0.7729\n",
            "\n",
            "Epoch 4/40\n"
          ]
        },
        {
          "output_type": "stream",
          "name": "stderr",
          "text": []
        },
        {
          "output_type": "stream",
          "name": "stdout",
          "text": [
            "Loss: 0.4945 - Acc: 0.8427 - Val_Loss: 1.1855 - Val_Acc: 0.7143\n",
            "\n",
            "Epoch 5/40\n"
          ]
        },
        {
          "output_type": "stream",
          "name": "stderr",
          "text": []
        },
        {
          "output_type": "stream",
          "name": "stdout",
          "text": [
            "Loss: 0.4147 - Acc: 0.8672 - Val_Loss: 1.0789 - Val_Acc: 0.7886\n",
            "\n",
            "Epoch 6/40\n"
          ]
        },
        {
          "output_type": "stream",
          "name": "stderr",
          "text": []
        },
        {
          "output_type": "stream",
          "name": "stdout",
          "text": [
            "Loss: 0.3049 - Acc: 0.9028 - Val_Loss: 1.1036 - Val_Acc: 0.7843\n",
            "\n",
            "Epoch 7/40\n"
          ]
        },
        {
          "output_type": "stream",
          "name": "stderr",
          "text": []
        },
        {
          "output_type": "stream",
          "name": "stdout",
          "text": [
            "Loss: 0.2612 - Acc: 0.9145 - Val_Loss: 1.0362 - Val_Acc: 0.8014\n",
            "\n",
            "Epoch 8/40\n"
          ]
        },
        {
          "output_type": "stream",
          "name": "stderr",
          "text": []
        },
        {
          "output_type": "stream",
          "name": "stdout",
          "text": [
            "Loss: 0.2554 - Acc: 0.9166 - Val_Loss: 1.2194 - Val_Acc: 0.7271\n",
            "\n",
            "Epoch 9/40\n"
          ]
        },
        {
          "output_type": "stream",
          "name": "stderr",
          "text": []
        },
        {
          "output_type": "stream",
          "name": "stdout",
          "text": [
            "Loss: 0.1994 - Acc: 0.9344 - Val_Loss: 1.0464 - Val_Acc: 0.8157\n",
            "\n",
            "Epoch 10/40\n"
          ]
        },
        {
          "output_type": "stream",
          "name": "stderr",
          "text": []
        },
        {
          "output_type": "stream",
          "name": "stdout",
          "text": [
            "Loss: 0.1819 - Acc: 0.9435 - Val_Loss: 1.0843 - Val_Acc: 0.8086\n",
            "\n",
            "Epoch 11/40\n"
          ]
        },
        {
          "output_type": "stream",
          "name": "stderr",
          "text": []
        },
        {
          "output_type": "stream",
          "name": "stdout",
          "text": [
            "Loss: 0.1815 - Acc: 0.9437 - Val_Loss: 0.9335 - Val_Acc: 0.8414\n",
            "\n",
            "Epoch 12/40\n"
          ]
        },
        {
          "output_type": "stream",
          "name": "stderr",
          "text": []
        },
        {
          "output_type": "stream",
          "name": "stdout",
          "text": [
            "Loss: 0.1328 - Acc: 0.9581 - Val_Loss: 1.1438 - Val_Acc: 0.8071\n",
            "\n",
            "Epoch 13/40\n"
          ]
        },
        {
          "output_type": "stream",
          "name": "stderr",
          "text": []
        },
        {
          "output_type": "stream",
          "name": "stdout",
          "text": [
            "Loss: 0.1699 - Acc: 0.9455 - Val_Loss: 1.2846 - Val_Acc: 0.8014\n",
            "\n",
            "Epoch 14/40\n"
          ]
        },
        {
          "output_type": "stream",
          "name": "stderr",
          "text": []
        },
        {
          "output_type": "stream",
          "name": "stdout",
          "text": [
            "Loss: 0.1355 - Acc: 0.9554 - Val_Loss: 1.1916 - Val_Acc: 0.8171\n",
            "\n",
            "Epoch 15/40\n"
          ]
        },
        {
          "output_type": "stream",
          "name": "stderr",
          "text": []
        },
        {
          "output_type": "stream",
          "name": "stdout",
          "text": [
            "Loss: 0.1404 - Acc: 0.9548 - Val_Loss: 1.3340 - Val_Acc: 0.7800\n",
            "\n",
            "Epoch 16/40\n"
          ]
        },
        {
          "output_type": "stream",
          "name": "stderr",
          "text": []
        },
        {
          "output_type": "stream",
          "name": "stdout",
          "text": [
            "Loss: 0.1686 - Acc: 0.9455 - Val_Loss: 1.0736 - Val_Acc: 0.8443\n",
            "\n",
            "Epoch 17/40\n"
          ]
        },
        {
          "output_type": "stream",
          "name": "stderr",
          "text": []
        },
        {
          "output_type": "stream",
          "name": "stdout",
          "text": [
            "Loss: 0.1357 - Acc: 0.9538 - Val_Loss: 1.1207 - Val_Acc: 0.8500\n",
            "\n",
            "Epoch 18/40\n"
          ]
        },
        {
          "output_type": "stream",
          "name": "stderr",
          "text": []
        },
        {
          "output_type": "stream",
          "name": "stdout",
          "text": [
            "Loss: 0.0710 - Acc: 0.9784 - Val_Loss: 1.0045 - Val_Acc: 0.8657\n",
            "\n",
            "Epoch 19/40\n"
          ]
        },
        {
          "output_type": "stream",
          "name": "stderr",
          "text": []
        },
        {
          "output_type": "stream",
          "name": "stdout",
          "text": [
            "Loss: 0.0919 - Acc: 0.9719 - Val_Loss: 1.2884 - Val_Acc: 0.8057\n",
            "\n",
            "Epoch 20/40\n"
          ]
        },
        {
          "output_type": "stream",
          "name": "stderr",
          "text": []
        },
        {
          "output_type": "stream",
          "name": "stdout",
          "text": [
            "Loss: 0.1370 - Acc: 0.9614 - Val_Loss: 1.3669 - Val_Acc: 0.8200\n",
            "\n",
            "Epoch 21/40\n"
          ]
        },
        {
          "output_type": "stream",
          "name": "stderr",
          "text": []
        },
        {
          "output_type": "stream",
          "name": "stdout",
          "text": [
            "Loss: 0.0879 - Acc: 0.9685 - Val_Loss: 1.1325 - Val_Acc: 0.8371\n",
            "\n",
            "Epoch 22/40\n"
          ]
        },
        {
          "output_type": "stream",
          "name": "stderr",
          "text": []
        },
        {
          "output_type": "stream",
          "name": "stdout",
          "text": [
            "Loss: 0.1250 - Acc: 0.9604 - Val_Loss: 1.2095 - Val_Acc: 0.8357\n",
            "\n",
            "Epoch 23/40\n"
          ]
        },
        {
          "output_type": "stream",
          "name": "stderr",
          "text": [
            "                                               "
          ]
        },
        {
          "output_type": "stream",
          "name": "stdout",
          "text": [
            "Loss: 0.0997 - Acc: 0.9674 - Val_Loss: 1.3389 - Val_Acc: 0.7957\n",
            "\n",
            "🛑 Early stopping activado. Mejor val_accuracy: 0.8657\n"
          ]
        },
        {
          "output_type": "stream",
          "name": "stderr",
          "text": [
            "\r"
          ]
        }
      ]
    },
    {
      "cell_type": "code",
      "source": [
        "torch.save({'model_state_dict': model_ft.state_dict(), 'history': history}, 'modelo_resnet18_finetuned.pth')"
      ],
      "metadata": {
        "id": "H8rjZFSQc308"
      },
      "execution_count": 49,
      "outputs": []
    },
    {
      "cell_type": "code",
      "source": [
        "# GRÁFICO DE CURVAS DE ACCURACY Y LOSS\n",
        "import matplotlib.pyplot as plt\n",
        "def plot_history(history):\n",
        "    epochs = range(1, len(history['train_loss']) + 1)\n",
        "    plt.figure(figsize=(12, 5))\n",
        "\n",
        "    plt.subplot(1, 2, 1)\n",
        "    plt.plot(epochs, history['train_loss'], label='Train Loss', color='orange')\n",
        "    plt.plot(epochs, history['val_loss'], label='Val Loss', color='red', linestyle='--')\n",
        "    plt.xlabel('Época'); plt.ylabel('Pérdida'); plt.title('Loss'); plt.grid(True); plt.legend()\n",
        "\n",
        "    plt.subplot(1, 2, 2)\n",
        "    plt.plot(epochs, history['train_acc'], label='Train Acc', color='blue')\n",
        "    plt.plot(epochs, history['val_acc'], label='Val Acc', color='green')\n",
        "    plt.xlabel('Época'); plt.ylabel('Precisión'); plt.title('Accuracy'); plt.grid(True); plt.legend()\n",
        "\n",
        "    plt.tight_layout()\n",
        "    plt.show()"
      ],
      "metadata": {
        "id": "LG_g2VmcLC5j"
      },
      "execution_count": 50,
      "outputs": []
    },
    {
      "cell_type": "code",
      "source": [
        "# CÁLCULO DE MÉTRICAS\n",
        "\n",
        "from sklearn.metrics import accuracy_score, precision_score, recall_score, f1_score, confusion_matrix\n",
        "import numpy as np\n",
        "\n",
        "def mostrar_metricas(y_true, y_pred):\n",
        "    accuracy = accuracy_score(y_true, y_pred)\n",
        "    precision = precision_score(y_true, y_pred, average='macro')\n",
        "    recall = recall_score(y_true, y_pred, average='macro')\n",
        "    f1 = f1_score(y_true, y_pred, average='macro')\n",
        "\n",
        "    cm = confusion_matrix(y_true, y_pred)\n",
        "    FP = cm.sum(axis=0) - np.diag(cm)\n",
        "    TN = cm.sum() - (cm.sum(axis=0) + cm.sum(axis=1) - np.diag(cm))\n",
        "    specificity = (TN / (TN + FP + 1e-8)).mean()\n",
        "\n",
        "    print(\"\\n📊 Métricas del modelo en validación:\")\n",
        "    print(f\"Exactitud       : {accuracy:.4f}\")\n",
        "    print(f\"Precisión       : {precision:.4f}\")\n",
        "    print(f\"Recall          : {recall:.4f}\")\n",
        "    print(f\"Especificidad   : {specificity:.4f}\")\n",
        "    print(f\"F1-score        : {f1:.4f}\")"
      ],
      "metadata": {
        "id": "HQdUQEOhJC39"
      },
      "execution_count": 51,
      "outputs": []
    },
    {
      "cell_type": "code",
      "source": [
        "plot_history(history)\n",
        "mostrar_metricas(y_true, y_pred)"
      ],
      "metadata": {
        "colab": {
          "base_uri": "https://localhost:8080/",
          "height": 491
        },
        "id": "feS9s3pxcpYZ",
        "outputId": "2c7da4ed-a5ca-4524-8f54-0d2ffec5f9ae"
      },
      "execution_count": 52,
      "outputs": [
        {
          "output_type": "display_data",
          "data": {
            "text/plain": [
              "<Figure size 1200x500 with 2 Axes>"
            ],
            "image/png": "[encoded data removed]"
          },
          "metadata": {}
        },
        {
          "output_type": "stream",
          "name": "stdout",
          "text": [
            "\n",
            "📊 Métricas del modelo en validación:\n",
            "Exactitud       : 0.7957\n",
            "Precisión       : 0.8245\n",
            "Recall          : 0.7957\n",
            "Especificidad   : 0.9970\n",
            "F1-score        : 0.7838\n"
          ]
        }
      ]
    },
    {
      "cell_type": "markdown",
      "source": [
        "CONCLUSIÓN (LAS MÉTRICAS CAMBIAN EN CADA EJECUCIÓN, OJO!!):\n",
        "\n",
        "- Exactitud\t(0.7786):\tMuy buena en un problema multiclase con 70 clases.\n",
        "- Precisión\t(0.8304):\tAlto valor → pocos falsos positivos en promedio.\n",
        "- Recall\t(0.7786):\tCoincide con la exactitud en este caso.\n",
        "- F1-score\t(0.7742):\tBalance correcto entre precisión y recall.\n",
        "- Especificidad\t(0.9968):\tAltísima → muy baja tasa de falsos positivos por clase.\n",
        "\n",
        "Se obtuvo un modelo confiable para clasificar imágenes de perros por raza.\n",
        "La especificidad casi perfecta sugiere que el modelo no confunde fácilmente las clases que no corresponden."
      ],
      "metadata": {
        "id": "g2H4_LGsLacC"
      }
    },
    {
      "cell_type": "markdown",
      "source": [
        "### Modelo B (Opcional, recomendado)"
      ],
      "metadata": {
        "id": "VwUT1zx5v9Ti"
      }
    },
    {
      "cell_type": "code",
      "source": [
        "# DEFINICIÓN DEL MODELO\n",
        "\n",
        "import torch.nn as nn\n",
        "import torch.nn.functional as F\n",
        "\n",
        "device = torch.device(\"cuda\" if torch.cuda.is_available() else \"cpu\")\n",
        "\n",
        "# MODELO CNN AJUSTADO\n",
        "class CustomCNN(nn.Module):\n",
        "    def __init__(self, num_classes):\n",
        "        super(CustomCNN, self).__init__()\n",
        "        self.conv1 = nn.Conv2d(3, 32, kernel_size=5, padding=2)\n",
        "        self.pool1 = nn.MaxPool2d(2, 2)\n",
        "\n",
        "        self.conv2 = nn.Conv2d(32, 64, kernel_size=5, padding=2)\n",
        "        self.pool2 = nn.MaxPool2d(2, 2)\n",
        "\n",
        "        self.conv3 = nn.Conv2d(64, 128, kernel_size=3, padding=1)\n",
        "        self.pool3 = nn.MaxPool2d(2, 2)\n",
        "\n",
        "        self.gap = nn.AdaptiveAvgPool2d((1, 1))  # Global Average Pooling\n",
        "\n",
        "        self.dropout = nn.Dropout(0.6)\n",
        "        self.fc1 = nn.Linear(128, 256)\n",
        "        self.fc2 = nn.Linear(256, num_classes)\n",
        "\n",
        "    def forward(self, x):\n",
        "        x = self.pool1(F.relu(self.conv1(x)))     # -> [B, 32, 112, 112]\n",
        "        x = self.pool2(F.relu(self.conv2(x)))     # -> [B, 64, 56, 56]\n",
        "        x = self.pool3(F.relu(self.conv3(x)))     # -> [B, 128, 28, 28]\n",
        "        x = self.gap(x)                           # -> [B, 128, 1, 1]\n",
        "        x = x.view(x.size(0), -1)                 # -> [B, 128]\n",
        "        x = self.dropout(F.relu(self.fc1(x)))     # -> [B, 256]\n",
        "        x = self.fc2(x)                           # -> [B, num_classes]\n",
        "        return x"
      ],
      "metadata": {
        "id": "oPvvpHpRSHAX"
      },
      "execution_count": 36,
      "outputs": []
    },
    {
      "cell_type": "code",
      "source": [
        "train_transform = transforms.Compose([\n",
        "    transforms.RandomResizedCrop(224),\n",
        "    transforms.RandomHorizontalFlip(),\n",
        "    transforms.RandomRotation(15),\n",
        "    transforms.ColorJitter(brightness=0.2, contrast=0.2, saturation=0.2, hue=0.1),\n",
        "    transforms.ToTensor(),\n",
        "    transforms.Normalize([0.5]*3, [0.5]*3)\n",
        "])\n",
        "\n",
        "val_transform = transforms.Compose([\n",
        "    transforms.Resize((224, 224)),\n",
        "    transforms.ToTensor(),\n",
        "    transforms.Normalize([0.5]*3, [0.5]*3)\n",
        "])"
      ],
      "metadata": {
        "id": "nDdZwkXeWbFJ"
      },
      "execution_count": 37,
      "outputs": []
    },
    {
      "cell_type": "code",
      "source": [
        "# INICIALIZACIÓN\n",
        "model_custom = CustomCNN(num_classes=num_classes).to(device)\n",
        "criterion = nn.CrossEntropyLoss()\n",
        "optimizer = optim.Adam(model_custom.parameters(), lr=0.0003)"
      ],
      "metadata": {
        "id": "RR9GqN4mSQT7"
      },
      "execution_count": 38,
      "outputs": []
    },
    {
      "cell_type": "code",
      "source": [
        "# ENTRENAMIENTO DESDE CERO\n",
        "num_epochs = 50\n",
        "patience = 5\n",
        "best_acc = 0\n",
        "epochs_no_improve = 0\n",
        "best_model_wts = model_custom.state_dict()\n",
        "\n",
        "train_losses = []\n",
        "train_accuracies = []\n",
        "val_losses = []\n",
        "val_accuracies = []\n",
        "\n",
        "for epoch in range(num_epochs):\n",
        "    print(f\"\\nEpoch {epoch+1}/{num_epochs}\")\n",
        "\n",
        "    model_custom.train()\n",
        "    running_loss = 0.0\n",
        "    running_corrects = 0\n",
        "\n",
        "    pbar = tqdm(train_loader, total=len(train_loader))\n",
        "    for inputs, labels in pbar:\n",
        "        inputs, labels = inputs.to(device), labels.to(device)\n",
        "\n",
        "        optimizer.zero_grad()\n",
        "        outputs = model_custom(inputs)\n",
        "        loss = criterion(outputs, labels)\n",
        "        _, preds = torch.max(outputs, 1)\n",
        "\n",
        "        loss.backward()\n",
        "        optimizer.step()\n",
        "\n",
        "        running_loss += loss.item() * inputs.size(0)\n",
        "        running_corrects += torch.sum(preds == labels.data)\n",
        "\n",
        "    epoch_loss = running_loss / len(train_loader.dataset)\n",
        "    epoch_acc = running_corrects.double() / len(train_loader.dataset)\n",
        "    train_losses.append(epoch_loss)\n",
        "    train_accuracies.append(epoch_acc.item())\n",
        "\n",
        "    # VALIDACIÓN\n",
        "    model_custom.eval()\n",
        "    val_running_loss = 0.0\n",
        "    val_corrects = 0\n",
        "    y_true_custom = []\n",
        "    y_pred_custom = []\n",
        "\n",
        "    with torch.no_grad():\n",
        "        for inputs, labels in val_loader:\n",
        "            inputs, labels = inputs.to(device), labels.to(device)\n",
        "            outputs = model_custom(inputs)\n",
        "            loss = criterion(outputs, labels)\n",
        "            _, preds = torch.max(outputs, 1)\n",
        "\n",
        "            val_running_loss += loss.item() * inputs.size(0)\n",
        "            val_corrects += torch.sum(preds == labels.data)\n",
        "            y_true_custom.extend(labels.cpu().numpy())\n",
        "            y_pred_custom.extend(preds.cpu().numpy())\n",
        "\n",
        "    val_loss = val_running_loss / len(val_loader.dataset)\n",
        "    val_acc = val_corrects.double() / len(val_loader.dataset)\n",
        "    val_losses.append(val_loss)\n",
        "    val_accuracies.append(val_acc.item())\n",
        "\n",
        "    print(f\"Train Loss: {epoch_loss:.4f} | Train Acc: {epoch_acc:.4f} | Val Loss: {val_loss:.4f} | Val Acc: {val_acc:.4f}\")\n",
        "\n",
        "    if val_acc > best_acc:\n",
        "        best_acc = val_acc\n",
        "        best_model_wts = model_custom.state_dict()\n",
        "        epochs_no_improve = 0\n",
        "    else:\n",
        "        epochs_no_improve += 1\n",
        "        if epochs_no_improve >= patience:\n",
        "            print(f\"\\n🛑 Early stopping activado. Mejor val_accuracy: {best_acc:.4f}\")\n",
        "            break\n",
        "\n",
        "# Cargar mejores pesos\n",
        "model_custom.load_state_dict(best_model_wts)"
      ],
      "metadata": {
        "colab": {
          "base_uri": "https://localhost:8080/"
        },
        "id": "bP1RLAXOSQ9J",
        "outputId": "e38a0c3b-7524-4eb9-9a01-478aa28d62a7"
      },
      "execution_count": 39,
      "outputs": [
        {
          "output_type": "stream",
          "name": "stdout",
          "text": [
            "\n",
            "Epoch 1/50\n"
          ]
        },
        {
          "output_type": "stream",
          "name": "stderr",
          "text": [
            "100%|██████████| 249/249 [00:22<00:00, 10.88it/s]\n"
          ]
        },
        {
          "output_type": "stream",
          "name": "stdout",
          "text": [
            "Train Loss: 4.1984 | Train Acc: 0.0250 | Val Loss: 4.0824 | Val Acc: 0.0443\n",
            "\n",
            "Epoch 2/50\n"
          ]
        },
        {
          "output_type": "stream",
          "name": "stderr",
          "text": [
            "100%|██████████| 249/249 [00:22<00:00, 11.11it/s]\n"
          ]
        },
        {
          "output_type": "stream",
          "name": "stdout",
          "text": [
            "Train Loss: 4.0377 | Train Acc: 0.0406 | Val Loss: 3.9499 | Val Acc: 0.0400\n",
            "\n",
            "Epoch 3/50\n"
          ]
        },
        {
          "output_type": "stream",
          "name": "stderr",
          "text": [
            "100%|██████████| 249/249 [00:22<00:00, 11.30it/s]\n"
          ]
        },
        {
          "output_type": "stream",
          "name": "stdout",
          "text": [
            "Train Loss: 3.9717 | Train Acc: 0.0462 | Val Loss: 3.9116 | Val Acc: 0.0500\n",
            "\n",
            "Epoch 4/50\n"
          ]
        },
        {
          "output_type": "stream",
          "name": "stderr",
          "text": [
            "100%|██████████| 249/249 [00:21<00:00, 11.33it/s]\n"
          ]
        },
        {
          "output_type": "stream",
          "name": "stdout",
          "text": [
            "Train Loss: 3.9174 | Train Acc: 0.0530 | Val Loss: 3.8222 | Val Acc: 0.0529\n",
            "\n",
            "Epoch 5/50\n"
          ]
        },
        {
          "output_type": "stream",
          "name": "stderr",
          "text": [
            "100%|██████████| 249/249 [00:21<00:00, 11.32it/s]\n"
          ]
        },
        {
          "output_type": "stream",
          "name": "stdout",
          "text": [
            "Train Loss: 3.8408 | Train Acc: 0.0638 | Val Loss: 3.7657 | Val Acc: 0.0643\n",
            "\n",
            "Epoch 6/50\n"
          ]
        },
        {
          "output_type": "stream",
          "name": "stderr",
          "text": [
            "100%|██████████| 249/249 [00:22<00:00, 11.09it/s]\n"
          ]
        },
        {
          "output_type": "stream",
          "name": "stdout",
          "text": [
            "Train Loss: 3.7820 | Train Acc: 0.0688 | Val Loss: 3.6929 | Val Acc: 0.0843\n",
            "\n",
            "Epoch 7/50\n"
          ]
        },
        {
          "output_type": "stream",
          "name": "stderr",
          "text": [
            "100%|██████████| 249/249 [00:23<00:00, 10.51it/s]\n"
          ]
        },
        {
          "output_type": "stream",
          "name": "stdout",
          "text": [
            "Train Loss: 3.7050 | Train Acc: 0.0846 | Val Loss: 3.5790 | Val Acc: 0.1157\n",
            "\n",
            "Epoch 8/50\n"
          ]
        },
        {
          "output_type": "stream",
          "name": "stderr",
          "text": [
            "100%|██████████| 249/249 [00:22<00:00, 11.04it/s]\n"
          ]
        },
        {
          "output_type": "stream",
          "name": "stdout",
          "text": [
            "Train Loss: 3.6295 | Train Acc: 0.0990 | Val Loss: 3.4894 | Val Acc: 0.1329\n",
            "\n",
            "Epoch 9/50\n"
          ]
        },
        {
          "output_type": "stream",
          "name": "stderr",
          "text": [
            "100%|██████████| 249/249 [00:22<00:00, 11.03it/s]\n"
          ]
        },
        {
          "output_type": "stream",
          "name": "stdout",
          "text": [
            "Train Loss: 3.5571 | Train Acc: 0.1092 | Val Loss: 3.4343 | Val Acc: 0.1314\n",
            "\n",
            "Epoch 10/50\n"
          ]
        },
        {
          "output_type": "stream",
          "name": "stderr",
          "text": [
            "100%|██████████| 249/249 [00:22<00:00, 10.93it/s]\n"
          ]
        },
        {
          "output_type": "stream",
          "name": "stdout",
          "text": [
            "Train Loss: 3.4878 | Train Acc: 0.1282 | Val Loss: 3.3342 | Val Acc: 0.1543\n",
            "\n",
            "Epoch 11/50\n"
          ]
        },
        {
          "output_type": "stream",
          "name": "stderr",
          "text": [
            "100%|██████████| 249/249 [00:22<00:00, 11.15it/s]\n"
          ]
        },
        {
          "output_type": "stream",
          "name": "stdout",
          "text": [
            "Train Loss: 3.4444 | Train Acc: 0.1281 | Val Loss: 3.2635 | Val Acc: 0.1771\n",
            "\n",
            "Epoch 12/50\n"
          ]
        },
        {
          "output_type": "stream",
          "name": "stderr",
          "text": [
            "100%|██████████| 249/249 [00:21<00:00, 11.38it/s]\n"
          ]
        },
        {
          "output_type": "stream",
          "name": "stdout",
          "text": [
            "Train Loss: 3.3943 | Train Acc: 0.1416 | Val Loss: 3.2966 | Val Acc: 0.1671\n",
            "\n",
            "Epoch 13/50\n"
          ]
        },
        {
          "output_type": "stream",
          "name": "stderr",
          "text": [
            "100%|██████████| 249/249 [00:22<00:00, 11.28it/s]\n"
          ]
        },
        {
          "output_type": "stream",
          "name": "stdout",
          "text": [
            "Train Loss: 3.3561 | Train Acc: 0.1443 | Val Loss: 3.2353 | Val Acc: 0.1700\n",
            "\n",
            "Epoch 14/50\n"
          ]
        },
        {
          "output_type": "stream",
          "name": "stderr",
          "text": [
            "100%|██████████| 249/249 [00:22<00:00, 11.00it/s]\n"
          ]
        },
        {
          "output_type": "stream",
          "name": "stdout",
          "text": [
            "Train Loss: 3.3088 | Train Acc: 0.1505 | Val Loss: 3.1655 | Val Acc: 0.1843\n",
            "\n",
            "Epoch 15/50\n"
          ]
        },
        {
          "output_type": "stream",
          "name": "stderr",
          "text": [
            "100%|██████████| 249/249 [00:22<00:00, 10.93it/s]\n"
          ]
        },
        {
          "output_type": "stream",
          "name": "stdout",
          "text": [
            "Train Loss: 3.2648 | Train Acc: 0.1639 | Val Loss: 3.1628 | Val Acc: 0.1986\n",
            "\n",
            "Epoch 16/50\n"
          ]
        },
        {
          "output_type": "stream",
          "name": "stderr",
          "text": [
            "100%|██████████| 249/249 [00:22<00:00, 10.93it/s]\n"
          ]
        },
        {
          "output_type": "stream",
          "name": "stdout",
          "text": [
            "Train Loss: 3.2277 | Train Acc: 0.1661 | Val Loss: 3.0930 | Val Acc: 0.2071\n",
            "\n",
            "Epoch 17/50\n"
          ]
        },
        {
          "output_type": "stream",
          "name": "stderr",
          "text": [
            "100%|██████████| 249/249 [00:22<00:00, 10.94it/s]\n"
          ]
        },
        {
          "output_type": "stream",
          "name": "stdout",
          "text": [
            "Train Loss: 3.2039 | Train Acc: 0.1704 | Val Loss: 3.0743 | Val Acc: 0.2129\n",
            "\n",
            "Epoch 18/50\n"
          ]
        },
        {
          "output_type": "stream",
          "name": "stderr",
          "text": [
            "100%|██████████| 249/249 [00:22<00:00, 10.93it/s]\n"
          ]
        },
        {
          "output_type": "stream",
          "name": "stdout",
          "text": [
            "Train Loss: 3.1685 | Train Acc: 0.1858 | Val Loss: 3.0739 | Val Acc: 0.1971\n",
            "\n",
            "Epoch 19/50\n"
          ]
        },
        {
          "output_type": "stream",
          "name": "stderr",
          "text": [
            "100%|██████████| 249/249 [00:21<00:00, 11.37it/s]\n"
          ]
        },
        {
          "output_type": "stream",
          "name": "stdout",
          "text": [
            "Train Loss: 3.1304 | Train Acc: 0.1894 | Val Loss: 3.0141 | Val Acc: 0.2100\n",
            "\n",
            "Epoch 20/50\n"
          ]
        },
        {
          "output_type": "stream",
          "name": "stderr",
          "text": [
            "100%|██████████| 249/249 [00:22<00:00, 11.21it/s]\n"
          ]
        },
        {
          "output_type": "stream",
          "name": "stdout",
          "text": [
            "Train Loss: 3.1024 | Train Acc: 0.1927 | Val Loss: 2.9936 | Val Acc: 0.2214\n",
            "\n",
            "Epoch 21/50\n"
          ]
        },
        {
          "output_type": "stream",
          "name": "stderr",
          "text": [
            "100%|██████████| 249/249 [00:22<00:00, 11.00it/s]\n"
          ]
        },
        {
          "output_type": "stream",
          "name": "stdout",
          "text": [
            "Train Loss: 3.0641 | Train Acc: 0.1975 | Val Loss: 3.0979 | Val Acc: 0.1871\n",
            "\n",
            "Epoch 22/50\n"
          ]
        },
        {
          "output_type": "stream",
          "name": "stderr",
          "text": [
            "100%|██████████| 249/249 [00:22<00:00, 11.05it/s]\n"
          ]
        },
        {
          "output_type": "stream",
          "name": "stdout",
          "text": [
            "Train Loss: 3.0538 | Train Acc: 0.2011 | Val Loss: 2.9319 | Val Acc: 0.2243\n",
            "\n",
            "Epoch 23/50\n"
          ]
        },
        {
          "output_type": "stream",
          "name": "stderr",
          "text": [
            "100%|██████████| 249/249 [00:22<00:00, 11.02it/s]\n"
          ]
        },
        {
          "output_type": "stream",
          "name": "stdout",
          "text": [
            "Train Loss: 3.0052 | Train Acc: 0.2127 | Val Loss: 2.9619 | Val Acc: 0.2314\n",
            "\n",
            "Epoch 24/50\n"
          ]
        },
        {
          "output_type": "stream",
          "name": "stderr",
          "text": [
            "100%|██████████| 249/249 [00:22<00:00, 11.01it/s]\n"
          ]
        },
        {
          "output_type": "stream",
          "name": "stdout",
          "text": [
            "Train Loss: 2.9830 | Train Acc: 0.2156 | Val Loss: 2.9072 | Val Acc: 0.2329\n",
            "\n",
            "Epoch 25/50\n"
          ]
        },
        {
          "output_type": "stream",
          "name": "stderr",
          "text": [
            "100%|██████████| 249/249 [00:22<00:00, 11.14it/s]\n"
          ]
        },
        {
          "output_type": "stream",
          "name": "stdout",
          "text": [
            "Train Loss: 2.9596 | Train Acc: 0.2234 | Val Loss: 2.9061 | Val Acc: 0.2157\n",
            "\n",
            "Epoch 26/50\n"
          ]
        },
        {
          "output_type": "stream",
          "name": "stderr",
          "text": [
            "100%|██████████| 249/249 [00:21<00:00, 11.36it/s]\n"
          ]
        },
        {
          "output_type": "stream",
          "name": "stdout",
          "text": [
            "Train Loss: 2.9490 | Train Acc: 0.2279 | Val Loss: 2.8439 | Val Acc: 0.2600\n",
            "\n",
            "Epoch 27/50\n"
          ]
        },
        {
          "output_type": "stream",
          "name": "stderr",
          "text": [
            "100%|██████████| 249/249 [00:22<00:00, 11.15it/s]\n"
          ]
        },
        {
          "output_type": "stream",
          "name": "stdout",
          "text": [
            "Train Loss: 2.9128 | Train Acc: 0.2353 | Val Loss: 2.8038 | Val Acc: 0.2643\n",
            "\n",
            "Epoch 28/50\n"
          ]
        },
        {
          "output_type": "stream",
          "name": "stderr",
          "text": [
            "100%|██████████| 249/249 [00:22<00:00, 10.92it/s]\n"
          ]
        },
        {
          "output_type": "stream",
          "name": "stdout",
          "text": [
            "Train Loss: 2.9069 | Train Acc: 0.2316 | Val Loss: 2.7733 | Val Acc: 0.2771\n",
            "\n",
            "Epoch 29/50\n"
          ]
        },
        {
          "output_type": "stream",
          "name": "stderr",
          "text": [
            "100%|██████████| 249/249 [00:22<00:00, 10.96it/s]\n"
          ]
        },
        {
          "output_type": "stream",
          "name": "stdout",
          "text": [
            "Train Loss: 2.8505 | Train Acc: 0.2470 | Val Loss: 2.8267 | Val Acc: 0.2529\n",
            "\n",
            "Epoch 30/50\n"
          ]
        },
        {
          "output_type": "stream",
          "name": "stderr",
          "text": [
            "100%|██████████| 249/249 [00:22<00:00, 10.97it/s]\n"
          ]
        },
        {
          "output_type": "stream",
          "name": "stdout",
          "text": [
            "Train Loss: 2.8403 | Train Acc: 0.2411 | Val Loss: 2.7403 | Val Acc: 0.2771\n",
            "\n",
            "Epoch 31/50\n"
          ]
        },
        {
          "output_type": "stream",
          "name": "stderr",
          "text": [
            "100%|██████████| 249/249 [00:22<00:00, 11.12it/s]\n"
          ]
        },
        {
          "output_type": "stream",
          "name": "stdout",
          "text": [
            "Train Loss: 2.8108 | Train Acc: 0.2492 | Val Loss: 2.7785 | Val Acc: 0.2529\n",
            "\n",
            "Epoch 32/50\n"
          ]
        },
        {
          "output_type": "stream",
          "name": "stderr",
          "text": [
            "100%|██████████| 249/249 [00:22<00:00, 11.11it/s]\n"
          ]
        },
        {
          "output_type": "stream",
          "name": "stdout",
          "text": [
            "Train Loss: 2.8001 | Train Acc: 0.2511 | Val Loss: 2.8058 | Val Acc: 0.2614\n",
            "\n",
            "Epoch 33/50\n"
          ]
        },
        {
          "output_type": "stream",
          "name": "stderr",
          "text": [
            "100%|██████████| 249/249 [00:22<00:00, 11.31it/s]\n"
          ]
        },
        {
          "output_type": "stream",
          "name": "stdout",
          "text": [
            "Train Loss: 2.7793 | Train Acc: 0.2585 | Val Loss: 2.7396 | Val Acc: 0.2729\n",
            "\n",
            "🛑 Early stopping activado. Mejor val_accuracy: 0.2771\n"
          ]
        },
        {
          "output_type": "execute_result",
          "data": {
            "text/plain": [
              "<All keys matched successfully>"
            ]
          },
          "metadata": {},
          "execution_count": 39
        }
      ]
    },
    {
      "cell_type": "code",
      "source": [
        "# === MÉTRICAS ===\n",
        "accuracy = accuracy_score(y_true_custom, y_pred_custom)\n",
        "precision = precision_score(y_true_custom, y_pred_custom, average='macro', zero_division=0)\n",
        "recall = recall_score(y_true_custom, y_pred_custom, average='macro', zero_division=0)\n",
        "f1 = f1_score(y_true_custom, y_pred_custom, average='macro', zero_division=0)\n",
        "cm = confusion_matrix(y_true_custom, y_pred_custom)\n",
        "FP = cm.sum(axis=0) - np.diag(cm)\n",
        "TN = cm.sum() - (cm.sum(axis=0) + cm.sum(axis=1) - np.diag(cm))\n",
        "specificity = (TN / (TN + FP + 1e-8)).mean()\n",
        "\n",
        "print(\"\\n📊 Métricas del modelo CNN custom:\")\n",
        "print(f\"Exactitud       : {accuracy:.4f}\")\n",
        "print(f\"Precisión       : {precision:.4f}\")\n",
        "print(f\"Recall          : {recall:.4f}\")\n",
        "print(f\"Especificidad   : {specificity:.4f}\")\n",
        "print(f\"F1-score        : {f1:.4f}\")"
      ],
      "metadata": {
        "colab": {
          "base_uri": "https://localhost:8080/"
        },
        "id": "7BnGuf42T_CJ",
        "outputId": "18aab336-6000-4a28-aeee-62d754f718cf"
      },
      "execution_count": 34,
      "outputs": [
        {
          "output_type": "stream",
          "name": "stdout",
          "text": [
            "\n",
            "📊 Métricas del modelo CNN custom:\n",
            "Exactitud       : 0.3314\n",
            "Precisión       : 0.3366\n",
            "Recall          : 0.3314\n",
            "Especificidad   : 0.9903\n",
            "F1-score        : 0.3177\n"
          ]
        }
      ]
    },
    {
      "cell_type": "code",
      "source": [
        "# === GRÁFICOS ===\n",
        "epochs = range(1, len(train_losses)+1)\n",
        "plt.figure(figsize=(12, 5))\n",
        "\n",
        "plt.subplot(1, 2, 1)\n",
        "plt.plot(epochs, train_losses, label='Pérdida Entrenamiento', color='orange')\n",
        "plt.plot(epochs, val_losses, label='Pérdida Validación', color='red', linestyle='--')\n",
        "plt.title(\"Pérdida - CNN Custom\")\n",
        "plt.xlabel(\"Época\")\n",
        "plt.ylabel(\"Pérdida\")\n",
        "plt.legend()\n",
        "plt.grid()\n",
        "\n",
        "plt.subplot(1, 2, 2)\n",
        "plt.plot(epochs, train_accuracies, label='Precisión Entrenamiento', color='blue')\n",
        "plt.plot(epochs, val_accuracies, label='Precisión Validación', color='green')\n",
        "plt.title(\"Precisión - CNN Custom\")\n",
        "plt.xlabel(\"Época\")\n",
        "plt.ylabel(\"Precisión\")\n",
        "plt.legend()\n",
        "plt.grid()\n",
        "\n",
        "plt.tight_layout()\n",
        "plt.show()"
      ],
      "metadata": {
        "colab": {
          "base_uri": "https://localhost:8080/",
          "height": 370
        },
        "id": "M48HZqLjUAyJ",
        "outputId": "cd0a198e-b042-4b5e-f9d5-22d2be4c9ff0"
      },
      "execution_count": 35,
      "outputs": [
        {
          "output_type": "display_data",
          "data": {
            "text/plain": [
              "<Figure size 1200x500 with 2 Axes>"
            ],
            "image/png": "[encoded data removed]"
          },
          "metadata": {}
        }
      ]
    },
    {
      "cell_type": "markdown",
      "source": [
        "## Integración y Selección en la Aplicación"
      ],
      "metadata": {
        "id": "tiT0fEc_wBxC"
      }
    },
    {
      "cell_type": "markdown",
      "source": [
        "# Etapa 3: Pipeline de Detección y Clasificación en Escenas Complejas"
      ],
      "metadata": {
        "id": "xZZV2AkIvs8I"
      }
    },
    {
      "cell_type": "markdown",
      "source": [
        "## Detección de Objetos"
      ],
      "metadata": {
        "id": "fwLVYNtrwWFN"
      }
    },
    {
      "cell_type": "markdown",
      "source": [
        "## Creación del Pipeline Completo"
      ],
      "metadata": {
        "id": "uWcSa8OpwYi9"
      }
    },
    {
      "cell_type": "markdown",
      "source": [
        "# Etapa 4: Evaluación, Optimización y Herramientas de Anotación"
      ],
      "metadata": {
        "id": "Cg2AOo46vwop"
      }
    },
    {
      "cell_type": "markdown",
      "source": [
        "## Evaluación del Pipeline"
      ],
      "metadata": {
        "id": "Wp812DKQwbke"
      }
    },
    {
      "cell_type": "markdown",
      "source": [
        "## Optimización de Modelos (Elegir una)"
      ],
      "metadata": {
        "id": "FScdk2l_wda-"
      }
    },
    {
      "cell_type": "markdown",
      "source": [
        "## Script de Anotación Automática"
      ],
      "metadata": {
        "id": "rGaNqsKrwgKI"
      }
    }
  ]
}